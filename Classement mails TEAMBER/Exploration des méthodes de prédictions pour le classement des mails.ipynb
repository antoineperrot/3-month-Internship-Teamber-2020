{
 "cells": [
  {
   "cell_type": "code",
   "execution_count": 2,
   "metadata": {},
   "outputs": [],
   "source": [
    "import pandas as pd\n",
    "import numpy as np\n",
    "from tqdm import tqdm\n",
    "\n",
    "# Text vectorization :\n",
    "from sklearn.feature_extraction.text import CountVectorizer\n",
    "from sklearn.feature_extraction.text import TfidfTransformer\n",
    "from sklearn.feature_extraction.text import CountVectorizer\n",
    "from sklearn.feature_extraction.text import TfidfTransformer\n",
    "\n",
    "# Different models to try :\n",
    "from sklearn.svm import LinearSVC\n",
    "from sklearn.naive_bayes import MultinomialNB\n",
    "from sklearn.naive_bayes import GaussianNB\n",
    "from sklearn.ensemble import RandomForestClassifier\n",
    "\n",
    "# Data handling :\n",
    "from sklearn.model_selection import train_test_split\n",
    "from sklearn.model_selection import cross_val_score\n",
    "from sklearn import metrics\n",
    "\n",
    "import pickle\n",
    "from scipy.sparse import hstack"
   ]
  },
  {
   "cell_type": "code",
   "execution_count": 4,
   "metadata": {},
   "outputs": [],
   "source": [
    "from sklearn.feature_extraction.text import TfidfVectorizer"
   ]
  },
  {
   "cell_type": "markdown",
   "metadata": {},
   "source": [
    "## Import des mails dans un dataframe :"
   ]
  },
  {
   "cell_type": "code",
   "execution_count": 3,
   "metadata": {
    "scrolled": true
   },
   "outputs": [
    {
     "data": {
      "text/html": [
       "<div>\n",
       "<style scoped>\n",
       "    .dataframe tbody tr th:only-of-type {\n",
       "        vertical-align: middle;\n",
       "    }\n",
       "\n",
       "    .dataframe tbody tr th {\n",
       "        vertical-align: top;\n",
       "    }\n",
       "\n",
       "    .dataframe thead th {\n",
       "        text-align: right;\n",
       "    }\n",
       "</style>\n",
       "<table border=\"1\" class=\"dataframe\">\n",
       "  <thead>\n",
       "    <tr style=\"text-align: right;\">\n",
       "      <th></th>\n",
       "      <th>Objet</th>\n",
       "      <th>Expéditeur</th>\n",
       "      <th>Destinataire</th>\n",
       "      <th>Projet</th>\n",
       "    </tr>\n",
       "  </thead>\n",
       "  <tbody>\n",
       "    <tr>\n",
       "      <th>0</th>\n",
       "      <td>Merci d avoir modifié TEAMBER, Logiciel gestio...</td>\n",
       "      <td>noreply-maps-issues@google.com</td>\n",
       "      <td>alexis.cavaroc@teamber.fr</td>\n",
       "      <td>AGENCE DE COMMUNICATION</td>\n",
       "    </tr>\n",
       "    <tr>\n",
       "      <th>1</th>\n",
       "      <td>Vielen Dank, dass Sie Änderungen für TEAMBER, ...</td>\n",
       "      <td>noreply-maps-issues@google.com</td>\n",
       "      <td>alexis.cavaroc@teamber.fr</td>\n",
       "      <td>AGENCE DE COMMUNICATION</td>\n",
       "    </tr>\n",
       "    <tr>\n",
       "      <th>2</th>\n",
       "      <td>[TEAMBER] Notes réunion 08 Janvier</td>\n",
       "      <td>b.croquin@labsoft.fr</td>\n",
       "      <td>l.bancel@labsoft.fr</td>\n",
       "      <td>DEVELOPPEMENT</td>\n",
       "    </tr>\n",
       "    <tr>\n",
       "      <th>3</th>\n",
       "      <td>[TEAMBER] Notes réunion 08 Janvier</td>\n",
       "      <td>b.croquin@labsoft.fr</td>\n",
       "      <td>teamber@teamber.fr</td>\n",
       "      <td>DEVELOPPEMENT</td>\n",
       "    </tr>\n",
       "    <tr>\n",
       "      <th>4</th>\n",
       "      <td>[TEAMBER] Notes réunion 08 Janvier</td>\n",
       "      <td>b.croquin@labsoft.fr</td>\n",
       "      <td>teamber@labsoft.fr</td>\n",
       "      <td>DEVELOPPEMENT</td>\n",
       "    </tr>\n",
       "  </tbody>\n",
       "</table>\n",
       "</div>"
      ],
      "text/plain": [
       "                                               Objet  \\\n",
       "0  Merci d avoir modifié TEAMBER, Logiciel gestio...   \n",
       "1  Vielen Dank, dass Sie Änderungen für TEAMBER, ...   \n",
       "2                 [TEAMBER] Notes réunion 08 Janvier   \n",
       "3                 [TEAMBER] Notes réunion 08 Janvier   \n",
       "4                 [TEAMBER] Notes réunion 08 Janvier   \n",
       "\n",
       "                       Expéditeur               Destinataire  \\\n",
       "0  noreply-maps-issues@google.com  alexis.cavaroc@teamber.fr   \n",
       "1  noreply-maps-issues@google.com  alexis.cavaroc@teamber.fr   \n",
       "2            b.croquin@labsoft.fr        l.bancel@labsoft.fr   \n",
       "3            b.croquin@labsoft.fr         teamber@teamber.fr   \n",
       "4            b.croquin@labsoft.fr         teamber@labsoft.fr   \n",
       "\n",
       "                    Projet  \n",
       "0  AGENCE DE COMMUNICATION  \n",
       "1  AGENCE DE COMMUNICATION  \n",
       "2            DEVELOPPEMENT  \n",
       "3            DEVELOPPEMENT  \n",
       "4            DEVELOPPEMENT  "
      ]
     },
     "execution_count": 3,
     "metadata": {},
     "output_type": "execute_result"
    }
   ],
   "source": [
    "df = pd.read_excel('DATA.xlsx')\n",
    "df.rename(columns={'created':'Date',\n",
    "                   'adresse_mail_expediteur':'Expéditeur',\n",
    "                   'nom_projet':'Projet',\n",
    "                   'doc_mail_destinataire':'Destinataire'},\n",
    "         inplace=True)\n",
    "df = df[['Objet','Expéditeur','Destinataire','Projet']]\n",
    "df.head()"
   ]
  },
  {
   "cell_type": "markdown",
   "metadata": {},
   "source": [
    "## Modèle 1 : en utilisant simplement l'objet du mail "
   ]
  },
  {
   "cell_type": "markdown",
   "metadata": {},
   "source": [
    "Split du dataset en train/test 80/20"
   ]
  },
  {
   "cell_type": "code",
   "execution_count": 8,
   "metadata": {},
   "outputs": [],
   "source": [
    "X_train, X_test, y_train, y_test = train_test_split(df['Objet'], df['Projet'], test_size=.2,shuffle=True)"
   ]
  },
  {
   "cell_type": "code",
   "execution_count": 12,
   "metadata": {},
   "outputs": [
    {
     "data": {
      "text/plain": [
       "<33969x7153 sparse matrix of type '<class 'numpy.float64'>'\n",
       "\twith 160227 stored elements in Compressed Sparse Row format>"
      ]
     },
     "execution_count": 12,
     "metadata": {},
     "output_type": "execute_result"
    }
   ],
   "source": [
    "text_vect = TfidfVectorizer()\n",
    "X_train_vect = text_vect.fit_transform(X_train)\n",
    "X_test_vect = text_vect.transform(X_test)\n",
    "X_test_vect"
   ]
  },
  {
   "cell_type": "markdown",
   "metadata": {},
   "source": [
    "Test de différents modèles :\n",
    "- RandomForestClassifier\n",
    "- LinearSVC\n",
    "- MultinomialNB"
   ]
  },
  {
   "cell_type": "code",
   "execution_count": 15,
   "metadata": {},
   "outputs": [
    {
     "name": "stdout",
     "output_type": "stream",
     "text": [
      "#mails pour training : 135876 \n",
      "#projets : 132\n",
      "Accuracy RandomForestClassifier : 0.23291824899172775\n",
      "Accuracy LinearSVC : 0.7748829815419942\n",
      "Accuracy MultinomialNB : 0.6139126850952339\n"
     ]
    }
   ],
   "source": [
    "models = [RandomForestClassifier(n_estimators=500, max_depth=5, random_state=0),\n",
    "          LinearSVC(),\n",
    "          MultinomialNB()]\n",
    "\n",
    "print(\"#mails pour training :\",X_train_vect.shape[0],'\\n#projets :',y_train.factorize()[0].max())\n",
    "for model in models:\n",
    "    model_name = model.__class__.__name__\n",
    "    model.fit(X_train_vect,y_train)\n",
    "    print('Accuracy',model_name,':',model.score(X_test_vect,y_test))"
   ]
  },
  {
   "cell_type": "markdown",
   "metadata": {},
   "source": [
    "Le meilleur modèle est le LinearSVC, on continue donc avec celui-là."
   ]
  },
  {
   "cell_type": "code",
   "execution_count": 16,
   "metadata": {
    "scrolled": true
   },
   "outputs": [
    {
     "name": "stderr",
     "output_type": "stream",
     "text": [
      "C:\\Users\\antoi\\anaconda3\\lib\\site-packages\\sklearn\\metrics\\_classification.py:1272: UndefinedMetricWarning: Precision and F-score are ill-defined and being set to 0.0 in labels with no predicted samples. Use `zero_division` parameter to control this behavior.\n",
      "  _warn_prf(average, modifier, msg_start, len(result))\n"
     ]
    },
    {
     "name": "stdout",
     "output_type": "stream",
     "text": [
      "                              precision    recall  f1-score   support\n",
      "\n",
      "               DEVELOPPEMENT       1.00      0.33      0.50         6\n",
      "       LETELLIER ARCHITECTES       0.95      0.69      0.80       176\n",
      "                   PLENETUDE       0.86      0.68      0.76       191\n",
      "     AGENCE DE COMMUNICATION       1.00      1.00      1.00         2\n",
      "                  OTCE INFRA       1.00      0.33      0.50         3\n",
      "           TRACE ARCHITECTES       0.86      0.77      0.81       441\n",
      "        FRANCOIS DE LA SERRE       0.89      0.81      0.85       262\n",
      "                 ATELIER BLM       0.00      0.00      0.00         1\n",
      "           GARCIA INGENIERIE       1.00      0.67      0.80         3\n",
      "                       CETEC       0.72      0.55      0.62        97\n",
      "                     LABSOFT       0.76      0.78      0.77       871\n",
      "  MONACO INGENIERIE PARTNERS       1.00      0.25      0.40         4\n",
      "              CABINET ECTARE       0.87      0.79      0.83        78\n",
      "                 OTCE GROUPE       0.79      0.83      0.81       502\n",
      "            CEREG INGENIERIE       0.67      0.70      0.68       117\n",
      "            FIDAL INNOVATION       1.00      0.50      0.67         2\n",
      "                     AUGUSTA       1.00      0.33      0.50         6\n",
      "                         OGI       0.88      0.60      0.71       383\n",
      "             HEXA INGENIERIE       1.00      1.00      1.00         1\n",
      "                   ASTONWOOD       0.29      1.00      0.44         2\n",
      "               MB INGENIERIE       0.85      0.78      0.81      1348\n",
      "                ENZO & ROSSO       0.00      0.00      0.00         4\n",
      "                     SOCONER       0.82      0.60      0.69        30\n",
      "                  RL ARTTECH       1.00      0.67      0.80         3\n",
      "                       SERCQ       0.84      0.72      0.77       293\n",
      "       DECARRE ARCHITECTURES       0.67      0.67      0.67         3\n",
      "                     ALLIAGE       1.00      0.50      0.67         2\n",
      "       SEQUENCES ARCHITECTES       0.68      0.83      0.74       884\n",
      "                    OSTINATO       0.74      0.73      0.74       609\n",
      "                         BPA       1.00      0.25      0.40         4\n",
      "            VERDI INGENIERIE       0.85      0.79      0.82       207\n",
      "                  TEAMBER V2       0.00      0.00      0.00         1\n",
      "                COMPTABILITE       0.78      1.00      0.88         7\n",
      "                   ZUO PARIS       0.00      0.00      0.00         1\n",
      "                      AKADOM       0.60      0.75      0.67         4\n",
      "                     OTCE MP       1.00      0.33      0.50         3\n",
      "                     ADDENDA       0.68      0.75      0.71       288\n",
      "             ZUO MONTPELLIER       0.53      0.81      0.64        43\n",
      "                    ZUO LYON       0.78      0.74      0.76      2517\n",
      "                        BE2T       1.00      0.50      0.67         6\n",
      "                 GROUPE LE2C       0.00      0.00      0.00         1\n",
      "                      SARLEC       1.00      1.00      1.00         2\n",
      "                     ECOTONE       1.00      1.00      1.00         5\n",
      "                     OCT-OPC       1.00      1.00      1.00         3\n",
      "                       TUTTI       1.00      0.50      0.67         2\n",
      "                   HUGO TECH       0.00      0.00      0.00         2\n",
      "          VINCI CONSTRUCTION       0.67      0.60      0.63        10\n",
      "                        EXEN       0.94      0.83      0.88       337\n",
      "                        ATYC       0.00      0.00      0.00         1\n",
      "                  SIVOM SAGE       0.82      0.68      0.75      1435\n",
      "             CASTRO DENISSOF       1.00      0.75      0.86         4\n",
      "        ORIGINAL ARCHITECTES       0.74      0.48      0.58       316\n",
      "           FAURE EQUIPEMENTS       1.00      0.79      0.88        14\n",
      "         CONPAS COORDINATION       0.68      0.82      0.74       673\n",
      "       DEVILLERS ET ASSOCIES       0.00      0.00      0.00         2\n",
      "             XYLO STRUCTURES       1.00      1.00      1.00         1\n",
      " DERVENN CONSEILS INGENIERIE       0.86      0.71      0.78       535\n",
      "                         LGA       1.00      1.00      1.00         3\n",
      "         VARIANCE INGENIERIE       0.75      0.87      0.80      4103\n",
      "     MEIGNAN ENGASSER PERAUD       0.69      0.89      0.78        73\n",
      "    ERIC CHAVOIX ARCHITECTES       0.83      0.78      0.80       818\n",
      "              ROZIER GINISTY       1.00      0.67      0.80         3\n",
      "                         R2M       0.86      0.86      0.86       380\n",
      "                    SINERGIA       0.00      0.00      0.00         2\n",
      "              CABINET TRAMOY       0.88      0.64      0.74        36\n",
      "                PARADIS VERT       0.00      0.00      0.00         4\n",
      "        INTEGRALE INGENIERIE       0.00      0.00      0.00         3\n",
      "                 DAF ON LINE       0.83      0.71      0.77       366\n",
      "            AA GROUP VALENCE       0.00      0.00      0.00         1\n",
      "                         EBM       0.00      0.00      0.00         1\n",
      "                 CB ECONOMIE       0.90      0.87      0.88      1845\n",
      "                         RVA       0.70      0.58      0.64        12\n",
      "              CABINET FRADET       0.83      0.56      0.67         9\n",
      "                       BIGSO       0.79      0.73      0.76       282\n",
      "                    ECOFILAE       0.77      0.69      0.73        59\n",
      "                      TOUZET       0.72      0.75      0.73       505\n",
      "           CETRAC INGENIERIE       0.00      0.00      0.00         1\n",
      "          DUCLOS ARCHITECTES       1.00      1.00      1.00         1\n",
      "                    CALLISTO       0.68      0.62      0.65        77\n",
      "                  TECSOL IDF       0.81      0.77      0.79      2063\n",
      "                         OLM       1.00      0.50      0.67         2\n",
      "          MANAGEMENT QUALITE       0.61      0.51      0.56        39\n",
      "             ATELIER FESTINO       0.86      0.66      0.75       606\n",
      "                 OTCE LR MPT       0.62      0.71      0.66      2310\n",
      "                   HOMLY YOU       0.87      0.31      0.46       105\n",
      "          AIRBUS HELICOPTERS       0.00      0.00      0.00         2\n",
      "             AGENCE EMPEREUR       0.74      0.29      0.42       127\n",
      "                       BETCE       1.00      1.00      1.00         2\n",
      "           DAGORNE GUILLEMIN       0.82      0.93      0.87      3746\n",
      "                   DREAMTECH       0.50      1.00      0.67         3\n",
      "                   KING KONG       0.82      0.78      0.80        82\n",
      "           R ET R CONSULTING       0.86      0.72      0.78       262\n",
      "         ECCEL ENVIRONNEMENT       0.00      0.00      0.00        10\n",
      "                   L'ARTIFEX       0.00      0.00      0.00         1\n",
      "             TECSOL ANTILLES       0.00      0.00      0.00        14\n",
      "                 FRADIN WECK       0.75      0.60      0.67        10\n",
      "         COMPTOIR DE L'IMAGE       0.84      0.74      0.79       103\n",
      "        THALES ARCHITECTURES       1.00      1.00      1.00         7\n",
      "            GAMMA CONCEPTION       0.89      0.82      0.86       101\n",
      "                     BUROTEC       0.83      0.67      0.74       528\n",
      "      MP AGENCE ARCHITECTURE       0.82      0.75      0.78       154\n",
      "     ECOCONFIANCE RENOVATION       1.00      0.33      0.50         3\n",
      "              ALU ARCHITECTE       0.67      0.80      0.73         5\n",
      "                     CYLEBAT       1.00      0.33      0.50         3\n",
      "   CEGELEC PARIS VENTILATION       1.00      0.50      0.67         2\n",
      "                      URBAME       0.88      0.77      0.82       326\n",
      "                        WATT       0.59      0.76      0.67        17\n",
      "                     ARCHING       0.00      0.00      0.00         2\n",
      "FRANCK BILY MAITRISE DOEUVRE       0.87      0.87      0.87       127\n",
      "                      EFS 47       0.84      0.72      0.78       541\n",
      "            LEAN ARCHITECTES       0.00      0.00      0.00         1\n",
      "                     INGEPRO       0.75      0.66      0.70        77\n",
      "                    NOVELTIS       0.00      0.00      0.00         1\n",
      "                     DP NEWS       0.75      0.58      0.66       118\n",
      "        VINCI CHEVILLY LARUE       0.76      0.69      0.72       163\n",
      "               BUREAU FACE B       0.83      0.61      0.70        93\n",
      "          LEMOAL ARCHITECTES       0.56      0.68      0.62       881\n",
      "\n",
      "                    accuracy                           0.78     33969\n",
      "                   macro avg       0.69      0.58      0.61     33969\n",
      "                weighted avg       0.78      0.78      0.78     33969\n",
      "\n"
     ]
    }
   ],
   "source": [
    "model = LinearSVC()\n",
    "model.fit(X_train_tfidf,y_train)\n",
    "y_pred = model.predict(X_test_tfidf)\n",
    "print(metrics.classification_report(y_test, y_pred, target_names=y_test.unique()))"
   ]
  },
  {
   "cell_type": "code",
   "execution_count": 16,
   "metadata": {},
   "outputs": [],
   "source": [
    "df.dropna(inplace=True)"
   ]
  },
  {
   "cell_type": "markdown",
   "metadata": {},
   "source": [
    "## Modèle 2 : on utilise l'objet, l'expéditeur et le destinataire."
   ]
  },
  {
   "cell_type": "code",
   "execution_count": 34,
   "metadata": {
    "scrolled": true
   },
   "outputs": [
    {
     "data": {
      "text/html": [
       "<div>\n",
       "<style scoped>\n",
       "    .dataframe tbody tr th:only-of-type {\n",
       "        vertical-align: middle;\n",
       "    }\n",
       "\n",
       "    .dataframe tbody tr th {\n",
       "        vertical-align: top;\n",
       "    }\n",
       "\n",
       "    .dataframe thead th {\n",
       "        text-align: right;\n",
       "    }\n",
       "</style>\n",
       "<table border=\"1\" class=\"dataframe\">\n",
       "  <thead>\n",
       "    <tr style=\"text-align: right;\">\n",
       "      <th></th>\n",
       "      <th>Objet</th>\n",
       "      <th>Expéditeur</th>\n",
       "      <th>Destinataire</th>\n",
       "    </tr>\n",
       "  </thead>\n",
       "  <tbody>\n",
       "    <tr>\n",
       "      <th>100214</th>\n",
       "      <td>RE: pb synchro agenda téléphone</td>\n",
       "      <td>alain.fourets@plenetude.fr</td>\n",
       "      <td>alexis.cavaroc@teamber.fr</td>\n",
       "    </tr>\n",
       "    <tr>\n",
       "      <th>43652</th>\n",
       "      <td>RE: [SPAM] TEAMBER - AG  reconstitution des ca...</td>\n",
       "      <td>Christophe.BOLZON@banque-france.fr</td>\n",
       "      <td>sebastien.perrot@teamber.fr</td>\n",
       "    </tr>\n",
       "  </tbody>\n",
       "</table>\n",
       "</div>"
      ],
      "text/plain": [
       "                                                    Objet  \\\n",
       "100214                    RE: pb synchro agenda téléphone   \n",
       "43652   RE: [SPAM] TEAMBER - AG  reconstitution des ca...   \n",
       "\n",
       "                                Expéditeur                 Destinataire  \n",
       "100214          alain.fourets@plenetude.fr    alexis.cavaroc@teamber.fr  \n",
       "43652   Christophe.BOLZON@banque-france.fr  sebastien.perrot@teamber.fr  "
      ]
     },
     "execution_count": 34,
     "metadata": {},
     "output_type": "execute_result"
    }
   ],
   "source": [
    "cols_train = ['Objet','Expéditeur','Destinataire']\n",
    "from sklearn import preprocessing\n",
    "le = preprocessing.LabelEncoder()\n",
    "le.fit(df['Projet'].values)\n",
    "y = le.transform(df['Projet'])\n",
    "\n",
    "X_train, X_test, y_train, y_test = train_test_split(df[cols_train], y,\n",
    "                                                    test_size=.2, shuffle = True)\n",
    "X_train.head(2)"
   ]
  },
  {
   "cell_type": "code",
   "execution_count": 35,
   "metadata": {},
   "outputs": [],
   "source": [
    "def fit_vectorize(X, col):\n",
    "    tfidf_vectorizer = TfidfVectorizer()\n",
    "    X_tfidf = tfidf_vectorizer.fit_transform(X)\n",
    "    pickle.dump(tfidf_vectorizer,       open(\"TfidfVectorizer\" + col,'wb'))\n",
    "    return X_tfidf\n",
    "\n",
    "def vectorize(X,col):\n",
    "    tfidf_vectorizer = pickle.load(open(\"TfidfVectorizer\"+col,'rb'))\n",
    "    X_tfidf = tfidf_vectorizer.transform(X)\n",
    "    return X_tfidf\n",
    "\n",
    "def fit_transform_textcolumns(X, textcolumns):\n",
    "    col = textcolumns[0]\n",
    "    out = fit_vectorize(X[col],col)\n",
    "    for i in range(1,len(textcolumns)) :\n",
    "        col = textcolumns[i]\n",
    "        out_next = fit_vectorize(X[col],col)\n",
    "        out = hstack((out, out_next))\n",
    "    return out\n",
    "\n",
    "def transform_textcolumns(X, textcolumns):\n",
    "    col = textcolumns[0]\n",
    "    out = vectorize(X[col],col)\n",
    "    for i in range(1,len(textcolumns)) :\n",
    "        col = textcolumns[i]\n",
    "        out_next = vectorize(X[col],col)\n",
    "        out = hstack((out, out_next))\n",
    "    return out"
   ]
  },
  {
   "cell_type": "code",
   "execution_count": 36,
   "metadata": {},
   "outputs": [],
   "source": [
    "textcolumns = [\"Objet\",'Expéditeur','Destinataire']\n",
    "X_train_vect= fit_transform_textcolumns(X_train,textcolumns)\n",
    "X_test_vect = transform_textcolumns(X_test,textcolumns)"
   ]
  },
  {
   "cell_type": "markdown",
   "metadata": {},
   "source": [
    "##### Création et entraînement du modèle :"
   ]
  },
  {
   "cell_type": "code",
   "execution_count": 52,
   "metadata": {},
   "outputs": [
    {
     "name": "stdout",
     "output_type": "stream",
     "text": [
      "Modèle entrainé sur :  135806 mails\n",
      "Pouvant être classés dans  133 projets différents\n",
      "Accuracy :  0.9151154571159283\n"
     ]
    }
   ],
   "source": [
    "model = LinearSVC()\n",
    "model.fit(X_train_vect,y_train)\n",
    "print(\"Modèle entrainé sur : \",X_train_vect.shape[0],\n",
    "      \"mails\\nPouvant être classés dans \",y_test.max(),\n",
    "      'projets différents\\nAccuracy : ',model.score(X_test_vect,y_test))"
   ]
  },
  {
   "cell_type": "code",
   "execution_count": 41,
   "metadata": {},
   "outputs": [
    {
     "name": "stdout",
     "output_type": "stream",
     "text": [
      "#mails pour training : 135806 \n",
      "#projets : 133\n",
      "Accuracy RandomForestClassifier : 0.3800954288407163\n",
      "Accuracy LinearSVC : 0.9151154571159283\n",
      "Accuracy MultinomialNB : 0.8030749293119699\n"
     ]
    }
   ],
   "source": [
    "models = [RandomForestClassifier(n_estimators=500, max_depth=5, random_state=0),\n",
    "          LinearSVC(),\n",
    "          MultinomialNB()]\n",
    "\n",
    "print(\"#mails pour training :\",X_train_vect.shape[0],'\\n#projets :',y_train.max())\n",
    "for model in models:\n",
    "    model_name = model.__class__.__name__\n",
    "    model.fit(X_train_vect,y_train)\n",
    "    print('Accuracy',model_name,':',model.score(X_test_vect,y_test))"
   ]
  },
  {
   "cell_type": "markdown",
   "metadata": {},
   "source": [
    "### On peut à proposer un top 3 grâce à un autre modèle : "
   ]
  },
  {
   "cell_type": "code",
   "execution_count": 320,
   "metadata": {},
   "outputs": [
    {
     "data": {
      "text/plain": [
       "0.9210650329877474"
      ]
     },
     "execution_count": 320,
     "metadata": {},
     "output_type": "execute_result"
    }
   ],
   "source": [
    "from sklearn.tree import DecisionTreeClassifier\n",
    "clf = DecisionTreeClassifier()\n",
    "clf.fit(X_train,y_train)\n",
    "clf.score(X_test,y_test)"
   ]
  },
  {
   "cell_type": "code",
   "execution_count": 321,
   "metadata": {},
   "outputs": [],
   "source": [
    "def top3(model,le, x):\n",
    "    tops = []\n",
    "    for i in range(x.shape[0]):\n",
    "        var = x.getrow(i)\n",
    "        pp = clf.predict_proba(var)[0]\n",
    "        if pp.max() < 1:\n",
    "            index  = np.where(pp>0)[0] \n",
    "            scores = pp[index]\n",
    "            ens = np.hstack([np.array([index]).T,np.array([scores]).T])\n",
    "            preds = np.flip(ens[ens[:,1].argsort()],axis=0)\n",
    "            top = preds[:,0].astype(int)[:min(3,len(preds))]\n",
    "            top = list(le.inverse_transform(top))\n",
    "        else :\n",
    "            top = [le.inverse_transform(clf.predict(var))]\n",
    "        tops.append(top)\n",
    "    return tops"
   ]
  },
  {
   "cell_type": "code",
   "execution_count": 318,
   "metadata": {},
   "outputs": [
    {
     "name": "stderr",
     "output_type": "stream",
     "text": [
      "100%|███████████████████████████████████████████████████████████████████████████| 16976/16976 [01:33<00:00, 181.94it/s]\n"
     ]
    },
    {
     "data": {
      "text/plain": [
       "0.929370876531574"
      ]
     },
     "execution_count": 318,
     "metadata": {},
     "output_type": "execute_result"
    }
   ],
   "source": [
    "c = 0\n",
    "y_test2 = le.inverse_transform(y_test)\n",
    "for i in tqdm(range(X_test.shape[0])):\n",
    "    pred = top3(clf,le,X_test.getrow(i))[0]\n",
    "    if y_test2[i] in pred:\n",
    "        c+=1\n",
    "c/X_test.shape[0]"
   ]
  },
  {
   "cell_type": "markdown",
   "metadata": {},
   "source": [
    "Conclusion : on ne gagne que 1% de précision, cela ne vaut donc pas le coup de faire une interface pour un top 3."
   ]
  },
  {
   "cell_type": "code",
   "execution_count": 15,
   "metadata": {
    "scrolled": true
   },
   "outputs": [
    {
     "name": "stdout",
     "output_type": "stream",
     "text": [
      "                              precision    recall  f1-score   support\n",
      "\n",
      "            AA GROUP VALENCE       1.00      1.00      1.00         4\n",
      "                     ADDENDA       0.95      0.93      0.94       152\n",
      "     AGENCE DE COMMUNICATION       0.90      0.89      0.90       193\n",
      "             AGENCE EMPEREUR       1.00      1.00      1.00         2\n",
      "          AIRBUS HELICOPTERS       1.00      1.00      1.00         2\n",
      "                      AKADOM       0.90      0.90      0.90       395\n",
      "                     ALLIAGE       0.95      0.91      0.93       235\n",
      "              ALU ARCHITECTE       0.00      0.00      0.00         1\n",
      "                     ARCHING       1.00      0.25      0.40         4\n",
      "                   ASTONWOOD       0.90      0.94      0.92        88\n",
      "                 ATELIER BLM       0.93      0.91      0.92       963\n",
      "               ATELIER LOYER       1.00      1.00      1.00         1\n",
      "                        ATYC       1.00      0.95      0.97        75\n",
      "                     AUGUSTA       0.97      0.93      0.95       563\n",
      "                        BE2T       0.91      0.78      0.84       119\n",
      "                       BETCE       1.00      1.00      1.00         1\n",
      "                       BIGSO       1.00      1.00      1.00         6\n",
      "                         BPA       0.95      0.84      0.89       408\n",
      "BRENGUES LEPAVEC ARCHITECTES       1.00      1.00      1.00         1\n",
      "                     BUROTEC       1.00      1.00      1.00         2\n",
      "              CABINET ECTARE       0.93      0.91      0.92      1367\n",
      "              CABINET FRADET       1.00      1.00      1.00         1\n",
      "              CABINET TRAMOY       0.86      0.76      0.81        25\n",
      "                    CALLISTO       1.00      1.00      1.00         1\n",
      "             CASTRO DENISSOF       0.89      0.93      0.91       275\n",
      "                 CB ECONOMIE       0.00      0.00      0.00         2\n",
      "                        CECM       1.00      1.00      1.00         1\n",
      "   CEGELEC PARIS VENTILATION       0.67      1.00      0.80         2\n",
      "            CEREG INGENIERIE       0.91      0.96      0.93       908\n",
      "                       CETEC       0.91      0.88      0.90       628\n",
      "           CETRAC INGENIERIE       1.00      1.00      1.00         5\n",
      "                COMPTABILITE       0.93      0.94      0.93       218\n",
      "         COMPTOIR DE L'IMAGE       1.00      1.00      1.00         1\n",
      "         CONPAS COORDINATION       1.00      0.78      0.88         9\n",
      "                 DAF ON LINE       0.75      0.75      0.75         4\n",
      "           DAGORNE GUILLEMIN       1.00      1.00      1.00         5\n",
      "       DECARRE ARCHITECTURES       0.93      0.91      0.92       284\n",
      " DERVENN CONSEILS INGENIERIE       0.94      0.92      0.93        50\n",
      "               DEVELOPPEMENT       0.85      0.89      0.87      2429\n",
      "       DEVILLERS ET ASSOCIES       0.67      0.67      0.67         3\n",
      "                     DP NEWS       1.00      1.00      1.00         1\n",
      "                   DREAMTECH       1.00      1.00      1.00         1\n",
      "          DUCLOS ARCHITECTES       1.00      1.00      1.00         3\n",
      "                         EBM       1.00      1.00      1.00         5\n",
      "         ECCEL ENVIRONNEMENT       1.00      1.00      1.00         4\n",
      "     ECOCONFIANCE RENOVATION       0.50      0.33      0.40         3\n",
      "                    ECOFILAE       0.85      1.00      0.92        11\n",
      "                     ECOTONE       0.97      0.92      0.94       326\n",
      "                      EFS 47       0.00      0.00      0.00         1\n",
      "                     ELIASUN       1.00      1.00      1.00         1\n",
      "                ENZO & ROSSO       0.95      0.92      0.93      1477\n",
      "    ERIC CHAVOIX ARCHITECTES       1.00      1.00      1.00         3\n",
      "                        EXEN       0.77      0.85      0.81       283\n",
      "           FAURE EQUIPEMENTS       1.00      1.00      1.00        13\n",
      "            FIDAL INNOVATION       0.93      0.92      0.92       723\n",
      "                 FRADIN WECK       1.00      1.00      1.00         1\n",
      "FRANCK BILY MAITRISE DOEUVRE       0.00      0.00      0.00         0\n",
      "        FRANCOIS DE LA SERRE       0.94      0.87      0.90       511\n",
      "            GAMMA CONCEPTION       1.00      1.00      1.00         3\n",
      "           GARCIA INGENIERIE       0.90      0.95      0.92      4171\n",
      "                 GROUPE LE2C       0.93      0.96      0.95        85\n",
      "             HEXA INGENIERIE       0.94      0.92      0.93       848\n",
      "                   HOMLY YOU       1.00      1.00      1.00         3\n",
      "                   HUGO TECH       0.94      0.95      0.94       376\n",
      "                     INGEPRO       0.50      1.00      0.67         1\n",
      "        INTEGRALE INGENIERIE       0.96      1.00      0.98        27\n",
      "                   L'ARTIFEX       1.00      1.00      1.00         4\n",
      "                     LABSOFT       0.83      0.82      0.82       336\n",
      "            LEAN ARCHITECTES       1.00      1.00      1.00         1\n",
      "       LETELLIER ARCHITECTES       0.97      0.94      0.96      1847\n",
      "                         LGA       1.00      0.53      0.69        17\n",
      "          MANAGEMENT QUALITE       1.00      0.57      0.73         7\n",
      "               MB INGENIERIE       0.85      0.92      0.88       285\n",
      "     MEIGNAN ENGASSER PERAUD       0.89      0.95      0.92        75\n",
      "  MONACO INGENIERIE PARTNERS       0.91      0.90      0.90       485\n",
      "                      MONTET       0.20      1.00      0.33         1\n",
      "                    NOVELTIS       1.00      1.00      1.00         1\n",
      "                     OCT-OPC       0.90      0.74      0.81        85\n",
      "                         OGI       0.94      0.92      0.93      2008\n",
      "                         OLM       1.00      1.00      1.00         1\n",
      "        ORIGINAL ARCHITECTES       0.91      0.84      0.88        38\n",
      "                    OSTINATO       0.93      0.88      0.91       587\n",
      "                 OTCE GROUPE       0.84      0.88      0.86      2280\n",
      "                  OTCE INFRA       0.71      0.31      0.43        96\n",
      "                 OTCE LR MPT       0.00      0.00      0.00         1\n",
      "                     OTCE MP       0.74      0.37      0.49       115\n",
      "                PARADIS VERT       1.00      1.00      1.00         2\n",
      "                   PLENETUDE       0.94      0.96      0.95      3801\n",
      "           R ET R CONSULTING       1.00      1.00      1.00         2\n",
      "                         R2M       0.98      0.94      0.96        87\n",
      "                  RL ARTTECH       0.97      0.92      0.94       215\n",
      "           ROBERT INGENIERIE       0.00      0.00      0.00         1\n",
      "              ROZIER GINISTY       0.00      0.00      0.00         1\n",
      "                      SARLEC       0.00      0.00      0.00        17\n",
      "       SEQUENCES ARCHITECTES       1.00      1.00      1.00        10\n",
      "                       SERCQ       0.92      0.96      0.94        92\n",
      "                       SINAT       0.00      0.00      0.00         0\n",
      "                    SINERGIA       1.00      1.00      1.00         7\n",
      "                  SIVOM SAGE       0.98      0.97      0.98       110\n",
      "                     SOCONER       0.97      0.89      0.93       530\n",
      "            SYN ARCHITECTURE       1.00      1.00      1.00         1\n",
      "                  TEAMBER V2       0.94      0.90      0.92       135\n",
      "             TECSOL ANTILLES       1.00      0.80      0.89         5\n",
      "                  TECSOL IDF       0.91      0.91      0.91        11\n",
      "                      TOUZET       1.00      1.00      1.00         2\n",
      "           TRACE ARCHITECTES       0.96      0.95      0.96       323\n",
      "                       TUTTI       0.78      0.44      0.56        16\n",
      "                      URBAME       1.00      0.33      0.50         3\n",
      "         VARIANCE INGENIERIE       0.93      0.96      0.94       114\n",
      "            VERDI INGENIERIE       0.92      0.88      0.90       524\n",
      "        VINCI CHEVILLY LARUE       1.00      1.00      1.00         1\n",
      "          VINCI CONSTRUCTION       0.90      0.96      0.93        69\n",
      "                        WATT       0.00      0.00      0.00         1\n",
      "             XYLO STRUCTURES       0.89      0.86      0.87       134\n",
      "                    ZUO LYON       0.97      0.83      0.89       153\n",
      "             ZUO MONTPELLIER       0.81      0.71      0.75        82\n",
      "                   ZUO PARIS       0.85      0.90      0.87       919\n",
      "\n",
      "                    accuracy                           0.91     33952\n",
      "                   macro avg       0.85      0.82      0.82     33952\n",
      "                weighted avg       0.91      0.91      0.91     33952\n",
      "\n"
     ]
    }
   ],
   "source": [
    "y_pred = model.predict(X_test)\n",
    "print(metrics.classification_report(y_test, y_pred))"
   ]
  },
  {
   "cell_type": "code",
   "execution_count": null,
   "metadata": {},
   "outputs": [],
   "source": [
    "import seaborn as sns\n",
    "from sklearn.metrics import confusion_matrix\n",
    "import matplotlib.pyplot as plt\n",
    "conf_mat = confusion_matrix(y_test, y_pred)\n",
    "fig, ax = plt.subplots(figsize=(10,10))\n",
    "sns.heatmap(conf_mat, annot=True, fmt='d')\n",
    "plt.ylabel('Actual')\n",
    "plt.xlabel('Predicted')\n",
    "plt.show()"
   ]
  },
  {
   "cell_type": "code",
   "execution_count": 40,
   "metadata": {},
   "outputs": [
    {
     "data": {
      "text/plain": [
       "array(['GARCIA INGENIERIE', 'CABINET ECTARE', 'LETELLIER ARCHITECTES',\n",
       "       ..., 'ATELIER BLM', 'PLENETUDE', 'GARCIA INGENIERIE'], dtype=object)"
      ]
     },
     "execution_count": 40,
     "metadata": {},
     "output_type": "execute_result"
    }
   ],
   "source": [
    "model.predict(X_test)"
   ]
  },
  {
   "cell_type": "code",
   "execution_count": 19,
   "metadata": {},
   "outputs": [
    {
     "ename": "AttributeError",
     "evalue": "'LinearSVC' object has no attribute 'predict_proba'",
     "output_type": "error",
     "traceback": [
      "\u001b[1;31m---------------------------------------------------------------------------\u001b[0m",
      "\u001b[1;31mAttributeError\u001b[0m                            Traceback (most recent call last)",
      "\u001b[1;32m<ipython-input-19-d905ae859022>\u001b[0m in \u001b[0;36m<module>\u001b[1;34m\u001b[0m\n\u001b[1;32m----> 1\u001b[1;33m \u001b[0mmodel\u001b[0m\u001b[1;33m.\u001b[0m\u001b[0mpredict_proba\u001b[0m\u001b[1;33m(\u001b[0m\u001b[0mX_test\u001b[0m\u001b[1;33m)\u001b[0m\u001b[1;33m\u001b[0m\u001b[1;33m\u001b[0m\u001b[0m\n\u001b[0m",
      "\u001b[1;31mAttributeError\u001b[0m: 'LinearSVC' object has no attribute 'predict_proba'"
     ]
    }
   ],
   "source": [
    "model.predict_proba(X_test)"
   ]
  },
  {
   "cell_type": "code",
   "execution_count": null,
   "metadata": {},
   "outputs": [],
   "source": []
  },
  {
   "cell_type": "markdown",
   "metadata": {},
   "source": [
    "##### Sauvegarde du modèle :"
   ]
  },
  {
   "cell_type": "code",
   "execution_count": 41,
   "metadata": {},
   "outputs": [],
   "source": [
    "pickle.dump(model,open(\"MailClassifier\",'wb'))"
   ]
  },
  {
   "cell_type": "markdown",
   "metadata": {},
   "source": [
    "## Modèle 3 : avec contenu du mail, date, envoyé/reçu "
   ]
  },
  {
   "cell_type": "code",
   "execution_count": 17,
   "metadata": {},
   "outputs": [
    {
     "data": {
      "text/html": [
       "<div>\n",
       "<style scoped>\n",
       "    .dataframe tbody tr th:only-of-type {\n",
       "        vertical-align: middle;\n",
       "    }\n",
       "\n",
       "    .dataframe tbody tr th {\n",
       "        vertical-align: top;\n",
       "    }\n",
       "\n",
       "    .dataframe thead th {\n",
       "        text-align: right;\n",
       "    }\n",
       "</style>\n",
       "<table border=\"1\" class=\"dataframe\">\n",
       "  <thead>\n",
       "    <tr style=\"text-align: right;\">\n",
       "      <th></th>\n",
       "      <th>Objet</th>\n",
       "      <th>Expéditeur</th>\n",
       "      <th>Destinataire</th>\n",
       "      <th>Date</th>\n",
       "    </tr>\n",
       "  </thead>\n",
       "  <tbody>\n",
       "    <tr>\n",
       "      <th>57191</th>\n",
       "      <td>RE: Chargé d affaires</td>\n",
       "      <td>ebarbier@sercq.fr</td>\n",
       "      <td>virginie.debede@teamber.fr</td>\n",
       "      <td>1585063432</td>\n",
       "    </tr>\n",
       "    <tr>\n",
       "      <th>119445</th>\n",
       "      <td>RE: Relation Teamber - Serveur local</td>\n",
       "      <td>alexis.cavaroc@teamber.fr</td>\n",
       "      <td>support@teamber.fr</td>\n",
       "      <td>1554297509</td>\n",
       "    </tr>\n",
       "  </tbody>\n",
       "</table>\n",
       "</div>"
      ],
      "text/plain": [
       "                                       Objet                 Expéditeur  \\\n",
       "57191                  RE: Chargé d affaires          ebarbier@sercq.fr   \n",
       "119445  RE: Relation Teamber - Serveur local  alexis.cavaroc@teamber.fr   \n",
       "\n",
       "                      Destinataire        Date  \n",
       "57191   virginie.debede@teamber.fr  1585063432  \n",
       "119445          support@teamber.fr  1554297509  "
      ]
     },
     "execution_count": 17,
     "metadata": {},
     "output_type": "execute_result"
    }
   ],
   "source": [
    "cols_train = ['Objet','Expéditeur','Destinataire','Date']\n",
    "X_train, X_test, y_train, y_test = train_test_split(df[cols_train], df['Projet'], test_size=.2, shuffle = True)\n",
    "X_train.head(2)"
   ]
  },
  {
   "cell_type": "code",
   "execution_count": 18,
   "metadata": {},
   "outputs": [],
   "source": [
    "text_cols = ['Objet','Expéditeur','Destinataire']\n",
    "\n",
    "X_train_text = fit_transform_textcolumns(X_train,text_cols)\n",
    "X_test_text = transform_textcolumns(X_test,text_cols)"
   ]
  },
  {
   "cell_type": "code",
   "execution_count": 100,
   "metadata": {},
   "outputs": [],
   "source": [
    "def to_sparse(X, cols_to_convert):\n",
    "    from scipy.sparse import coo_matrix\n",
    "    col = cols_to_convert[0]\n",
    "    out = coo_matrix(X[col].values).transpose()\n",
    "    for i in range(1,len(cols_to_convert)):\n",
    "        out_next = coo_matrix(X[col].values).transpose()\n",
    "        out = hstack((out,out_next))\n",
    "    return out"
   ]
  },
  {
   "cell_type": "code",
   "execution_count": 46,
   "metadata": {},
   "outputs": [],
   "source": [
    "X_train_date = to_sparse(X_train,['Date'])\n",
    "X_test_date = to_sparse(X_test,['Date'])"
   ]
  },
  {
   "cell_type": "code",
   "execution_count": 47,
   "metadata": {},
   "outputs": [],
   "source": [
    "xtrain = hstack((X_train_text,X_train_date))\n",
    "xtest  = hstack((X_test_text, X_test_date))"
   ]
  },
  {
   "cell_type": "markdown",
   "metadata": {},
   "source": [
    "##### Création et entraînement du modèle :"
   ]
  },
  {
   "cell_type": "code",
   "execution_count": 49,
   "metadata": {},
   "outputs": [],
   "source": [
    "from tqdm import tqdm"
   ]
  },
  {
   "cell_type": "code",
   "execution_count": 51,
   "metadata": {},
   "outputs": [
    {
     "name": "stdout",
     "output_type": "stream",
     "text": [
      "135806\n"
     ]
    }
   ],
   "source": [
    "batch_size = 64\n",
    "model = LinearSVC()\n",
    "DATASET_SIZE = xtrain.shape[0]\n",
    "print(DATASET_SIZE)"
   ]
  },
  {
   "cell_type": "code",
   "execution_count": null,
   "metadata": {},
   "outputs": [],
   "source": [
    "model.fit(xtrain,y_train)"
   ]
  },
  {
   "cell_type": "markdown",
   "metadata": {},
   "source": [
    "##### Test du modèle :"
   ]
  },
  {
   "cell_type": "code",
   "execution_count": 226,
   "metadata": {},
   "outputs": [
    {
     "name": "stdout",
     "output_type": "stream",
     "text": [
      "Modèle entrainé sur :  135806 mails\n",
      "Pouvant être classés dans  132 projets différents\n",
      "Taux de succès :  0.914997643732328\n"
     ]
    }
   ],
   "source": [
    "print(\"Modèle entrainé sur : \",xtrain.shape[0],\"mails\\nPouvant être classés dans \",y_train.max(),\\\n",
    "      'projets différents\\nTaux de succès : ',model.score(xtest,y_test))"
   ]
  },
  {
   "cell_type": "markdown",
   "metadata": {},
   "source": [
    "##### Sauvegarde du modèle :"
   ]
  },
  {
   "cell_type": "code",
   "execution_count": 227,
   "metadata": {},
   "outputs": [],
   "source": [
    "from datetime import datetime\n",
    "pickle.dump(model,open(\"MailClassifier\"+datetime.today().strftime('%Y-%m-%d-%Hh%M'),'wb'))"
   ]
  }
 ],
 "metadata": {
  "kernelspec": {
   "display_name": "Python 3",
   "language": "python",
   "name": "python3"
  },
  "language_info": {
   "codemirror_mode": {
    "name": "ipython",
    "version": 3
   },
   "file_extension": ".py",
   "mimetype": "text/x-python",
   "name": "python",
   "nbconvert_exporter": "python",
   "pygments_lexer": "ipython3",
   "version": "3.8.8"
  }
 },
 "nbformat": 4,
 "nbformat_minor": 4
}
