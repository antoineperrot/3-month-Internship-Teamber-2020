{
 "cells": [
  {
   "cell_type": "code",
   "execution_count": 3,
   "metadata": {},
   "outputs": [],
   "source": [
    "import pandas as pd\n",
    "\n",
    "# Text vectorization :\n",
    "from sklearn.feature_extraction.text import CountVectorizer\n",
    "from sklearn.feature_extraction.text import TfidfTransformer\n",
    "from sklearn.feature_extraction.text import CountVectorizer\n",
    "from sklearn.feature_extraction.text import TfidfTransformer\n",
    "\n",
    "# Le modèle que l'on va entraîner :\n",
    "from sklearn.svm import LinearSVC\n",
    "\n",
    "# manipulation des données :\n",
    "from sklearn.model_selection import train_test_split\n",
    "\n",
    "import pickle\n",
    "from scipy.sparse import hstack"
   ]
  },
  {
   "cell_type": "code",
   "execution_count": 2,
   "metadata": {},
   "outputs": [
    {
     "data": {
      "text/html": [
       "<div>\n",
       "<style scoped>\n",
       "    .dataframe tbody tr th:only-of-type {\n",
       "        vertical-align: middle;\n",
       "    }\n",
       "\n",
       "    .dataframe tbody tr th {\n",
       "        vertical-align: top;\n",
       "    }\n",
       "\n",
       "    .dataframe thead th {\n",
       "        text-align: right;\n",
       "    }\n",
       "</style>\n",
       "<table border=\"1\" class=\"dataframe\">\n",
       "  <thead>\n",
       "    <tr style=\"text-align: right;\">\n",
       "      <th></th>\n",
       "      <th>Objet</th>\n",
       "      <th>Expéditeur</th>\n",
       "      <th>Destinataire</th>\n",
       "      <th>Projet</th>\n",
       "    </tr>\n",
       "  </thead>\n",
       "  <tbody>\n",
       "    <tr>\n",
       "      <th>0</th>\n",
       "      <td>Merci d avoir modifié TEAMBER, Logiciel gestio...</td>\n",
       "      <td>noreply-maps-issues@google.com</td>\n",
       "      <td>alexis.cavaroc@teamber.fr</td>\n",
       "      <td>AGENCE DE COMMUNICATION</td>\n",
       "    </tr>\n",
       "    <tr>\n",
       "      <th>1</th>\n",
       "      <td>Vielen Dank, dass Sie Änderungen für TEAMBER, ...</td>\n",
       "      <td>noreply-maps-issues@google.com</td>\n",
       "      <td>alexis.cavaroc@teamber.fr</td>\n",
       "      <td>AGENCE DE COMMUNICATION</td>\n",
       "    </tr>\n",
       "    <tr>\n",
       "      <th>2</th>\n",
       "      <td>[TEAMBER] Notes réunion 08 Janvier</td>\n",
       "      <td>b.croquin@labsoft.fr</td>\n",
       "      <td>l.bancel@labsoft.fr</td>\n",
       "      <td>DEVELOPPEMENT</td>\n",
       "    </tr>\n",
       "    <tr>\n",
       "      <th>3</th>\n",
       "      <td>[TEAMBER] Notes réunion 08 Janvier</td>\n",
       "      <td>b.croquin@labsoft.fr</td>\n",
       "      <td>teamber@teamber.fr</td>\n",
       "      <td>DEVELOPPEMENT</td>\n",
       "    </tr>\n",
       "    <tr>\n",
       "      <th>4</th>\n",
       "      <td>[TEAMBER] Notes réunion 08 Janvier</td>\n",
       "      <td>b.croquin@labsoft.fr</td>\n",
       "      <td>teamber@labsoft.fr</td>\n",
       "      <td>DEVELOPPEMENT</td>\n",
       "    </tr>\n",
       "  </tbody>\n",
       "</table>\n",
       "</div>"
      ],
      "text/plain": [
       "                                               Objet  \\\n",
       "0  Merci d avoir modifié TEAMBER, Logiciel gestio...   \n",
       "1  Vielen Dank, dass Sie Änderungen für TEAMBER, ...   \n",
       "2                 [TEAMBER] Notes réunion 08 Janvier   \n",
       "3                 [TEAMBER] Notes réunion 08 Janvier   \n",
       "4                 [TEAMBER] Notes réunion 08 Janvier   \n",
       "\n",
       "                       Expéditeur               Destinataire  \\\n",
       "0  noreply-maps-issues@google.com  alexis.cavaroc@teamber.fr   \n",
       "1  noreply-maps-issues@google.com  alexis.cavaroc@teamber.fr   \n",
       "2            b.croquin@labsoft.fr        l.bancel@labsoft.fr   \n",
       "3            b.croquin@labsoft.fr         teamber@teamber.fr   \n",
       "4            b.croquin@labsoft.fr         teamber@labsoft.fr   \n",
       "\n",
       "                    Projet  \n",
       "0  AGENCE DE COMMUNICATION  \n",
       "1  AGENCE DE COMMUNICATION  \n",
       "2            DEVELOPPEMENT  \n",
       "3            DEVELOPPEMENT  \n",
       "4            DEVELOPPEMENT  "
      ]
     },
     "execution_count": 2,
     "metadata": {},
     "output_type": "execute_result"
    }
   ],
   "source": [
    "df = pd.read_excel('DATA.xlsx')\n",
    "df.rename(columns={'created':'Date',\n",
    "                   'adresse_mail_expediteur':'Expéditeur',\n",
    "                   'nom_projet':'Projet',\n",
    "                   'doc_mail_destinataire':'Destinataire'},\n",
    "         inplace=True)\n",
    "df = df[['Objet','Expéditeur','Destinataire','Projet']]\n",
    "df.head()"
   ]
  },
  {
   "cell_type": "code",
   "execution_count": 4,
   "metadata": {},
   "outputs": [],
   "source": [
    "def fit_vectorize(X, col):\n",
    "    count_vect = CountVectorizer()\n",
    "    tfidf_transformer = TfidfTransformer()\n",
    "    X_count = count_vect.fit_transform(X)\n",
    "    X_tfidf = tfidf_transformer.fit_transform(X_count)\n",
    "    pickle.dump(count_vect,       open(\"CountVectorizer\" + col,'wb'))\n",
    "    pickle.dump(tfidf_transformer,open(\"TfidfTransformer\" + col,'wb'))\n",
    "    return X_tfidf\n",
    "\n",
    "def vectorize(X,col):\n",
    "    count_vect        = pickle.load(open(\"CountVectorizer\"+col,'rb'))\n",
    "    tfidf_transformer = pickle.load(open(\"TfidfTransformer\"+col,'rb'))\n",
    "    X_count = count_vect.transform(X)\n",
    "    X_tfidf = tfidf_transformer.transform(X_count)\n",
    "    return X_tfidf\n",
    "\n",
    "def fit_transform_textcolumns(X, textcolumns):\n",
    "    col = textcolumns[0]\n",
    "    out = fit_vectorize(X[col],col)\n",
    "    for i in range(1,len(textcolumns)) :\n",
    "        col = textcolumns[i]\n",
    "        out_next = fit_vectorize(X[col],col)\n",
    "        out = hstack((out, out_next))\n",
    "    return out\n",
    "\n",
    "def transform_textcolumns(X, textcolumns):\n",
    "    col = textcolumns[0]\n",
    "    out = vectorize(X[col],col)\n",
    "    for i in range(1,len(textcolumns)) :\n",
    "        col = textcolumns[i]\n",
    "        out_next = vectorize(X[col],col)\n",
    "        out = hstack((out, out_next))\n",
    "    return out"
   ]
  },
  {
   "cell_type": "markdown",
   "metadata": {},
   "source": [
    "## Séparation du dataset en deux parties train/test :"
   ]
  },
  {
   "cell_type": "code",
   "execution_count": 5,
   "metadata": {},
   "outputs": [],
   "source": [
    "df.dropna(inplace=True)\n",
    "cols_train = ['Objet','Expéditeur','Destinataire']\n",
    "\n",
    "X_train, X_test, y_train, y_test = train_test_split(df[cols_train], df['Projet'],\n",
    "                                                    test_size=.3, shuffle = True)"
   ]
  },
  {
   "cell_type": "markdown",
   "metadata": {},
   "source": [
    "## Vectorisation des colonnes textuelles :"
   ]
  },
  {
   "cell_type": "code",
   "execution_count": 6,
   "metadata": {},
   "outputs": [
    {
     "data": {
      "text/plain": [
       "(<118830x10455 sparse matrix of type '<class 'numpy.float64'>'\n",
       " \twith 1436066 stored elements in COOrdinate format>,\n",
       " <50928x10455 sparse matrix of type '<class 'numpy.float64'>'\n",
       " \twith 614672 stored elements in COOrdinate format>)"
      ]
     },
     "execution_count": 6,
     "metadata": {},
     "output_type": "execute_result"
    }
   ],
   "source": [
    "textcolumns = [\"Objet\",'Expéditeur','Destinataire']\n",
    "\n",
    "X_train = fit_transform_textcolumns(X_train,textcolumns)\n",
    "X_test = transform_textcolumns(X_test,textcolumns)\n",
    "X_train, X_test"
   ]
  },
  {
   "cell_type": "markdown",
   "metadata": {},
   "source": [
    "## Entraînement du modèle :"
   ]
  },
  {
   "cell_type": "code",
   "execution_count": 7,
   "metadata": {},
   "outputs": [
    {
     "data": {
      "text/plain": [
       "LinearSVC(C=1.0, class_weight=None, dual=True, fit_intercept=True,\n",
       "     intercept_scaling=1, loss='squared_hinge', max_iter=1000,\n",
       "     multi_class='ovr', penalty='l2', random_state=None, tol=0.0001,\n",
       "     verbose=0)"
      ]
     },
     "execution_count": 7,
     "metadata": {},
     "output_type": "execute_result"
    }
   ],
   "source": [
    "model = LinearSVC()\n",
    "model.fit(X_train,y_train)"
   ]
  },
  {
   "cell_type": "markdown",
   "metadata": {},
   "source": [
    "## Test :"
   ]
  },
  {
   "cell_type": "code",
   "execution_count": 8,
   "metadata": {},
   "outputs": [
    {
     "name": "stdout",
     "output_type": "stream",
     "text": [
      "Modèle entrainé sur :  118830 mails\n",
      "Pouvant être classés dans  130 projets différents\n",
      "Accuracy :  0.9158616085453974\n"
     ]
    }
   ],
   "source": [
    "print(\"Modèle entrainé sur : \",X_train.shape[0],\n",
    "      \"mails\\nPouvant être classés dans \",y_train.factorize()[0].max(),\n",
    "      'projets différents\\nAccuracy : ',model.score(X_test,y_test))"
   ]
  },
  {
   "cell_type": "markdown",
   "metadata": {},
   "source": [
    "## Sauvegarde du modèle :"
   ]
  },
  {
   "cell_type": "code",
   "execution_count": 11,
   "metadata": {},
   "outputs": [],
   "source": [
    "pickle.dump(model,open(\"MailClassifier\",'wb'))"
   ]
  },
  {
   "cell_type": "code",
   "execution_count": null,
   "metadata": {},
   "outputs": [],
   "source": []
  }
 ],
 "metadata": {
  "kernelspec": {
   "display_name": "Python 3",
   "language": "python",
   "name": "python3"
  },
  "language_info": {
   "codemirror_mode": {
    "name": "ipython",
    "version": 3
   },
   "file_extension": ".py",
   "mimetype": "text/x-python",
   "name": "python",
   "nbconvert_exporter": "python",
   "pygments_lexer": "ipython3",
   "version": "3.7.1"
  }
 },
 "nbformat": 4,
 "nbformat_minor": 4
}
