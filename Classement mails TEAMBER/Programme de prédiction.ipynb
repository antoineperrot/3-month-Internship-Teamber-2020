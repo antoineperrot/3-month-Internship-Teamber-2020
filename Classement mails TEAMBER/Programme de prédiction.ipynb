{
 "cells": [
  {
   "cell_type": "code",
   "execution_count": 1,
   "metadata": {},
   "outputs": [],
   "source": [
    "import pandas as pd\n",
    "\n",
    "#nécessaire à la transformation des données au bon format pour la prédiction :\n",
    "from scipy.sparse import hstack\n",
    "\n",
    "# Text vectorization :\n",
    "from sklearn.feature_extraction.text import TfidfVectorizer\n",
    "\n",
    "# Le modèle que l'on utilise pour classifier :\n",
    "from sklearn.svm import LinearSVC\n",
    "\n",
    "# pour charger un odèle pré-existant :\n",
    "import pickle"
   ]
  },
  {
   "cell_type": "code",
   "execution_count": 2,
   "metadata": {},
   "outputs": [
    {
     "data": {
      "text/html": [
       "<div>\n",
       "<style scoped>\n",
       "    .dataframe tbody tr th:only-of-type {\n",
       "        vertical-align: middle;\n",
       "    }\n",
       "\n",
       "    .dataframe tbody tr th {\n",
       "        vertical-align: top;\n",
       "    }\n",
       "\n",
       "    .dataframe thead th {\n",
       "        text-align: right;\n",
       "    }\n",
       "</style>\n",
       "<table border=\"1\" class=\"dataframe\">\n",
       "  <thead>\n",
       "    <tr style=\"text-align: right;\">\n",
       "      <th></th>\n",
       "      <th>Objet</th>\n",
       "      <th>Expéditeur</th>\n",
       "      <th>Destinataire</th>\n",
       "      <th>Projet</th>\n",
       "    </tr>\n",
       "  </thead>\n",
       "  <tbody>\n",
       "    <tr>\n",
       "      <th>0</th>\n",
       "      <td>Merci d avoir modifié TEAMBER, Logiciel gestio...</td>\n",
       "      <td>noreply-maps-issues@google.com</td>\n",
       "      <td>alexis.cavaroc@teamber.fr</td>\n",
       "      <td>AGENCE DE COMMUNICATION</td>\n",
       "    </tr>\n",
       "    <tr>\n",
       "      <th>1</th>\n",
       "      <td>Vielen Dank, dass Sie Änderungen für TEAMBER, ...</td>\n",
       "      <td>noreply-maps-issues@google.com</td>\n",
       "      <td>alexis.cavaroc@teamber.fr</td>\n",
       "      <td>AGENCE DE COMMUNICATION</td>\n",
       "    </tr>\n",
       "    <tr>\n",
       "      <th>2</th>\n",
       "      <td>[TEAMBER] Notes réunion 08 Janvier</td>\n",
       "      <td>b.croquin@labsoft.fr</td>\n",
       "      <td>l.bancel@labsoft.fr</td>\n",
       "      <td>DEVELOPPEMENT</td>\n",
       "    </tr>\n",
       "    <tr>\n",
       "      <th>3</th>\n",
       "      <td>[TEAMBER] Notes réunion 08 Janvier</td>\n",
       "      <td>b.croquin@labsoft.fr</td>\n",
       "      <td>teamber@teamber.fr</td>\n",
       "      <td>DEVELOPPEMENT</td>\n",
       "    </tr>\n",
       "    <tr>\n",
       "      <th>4</th>\n",
       "      <td>[TEAMBER] Notes réunion 08 Janvier</td>\n",
       "      <td>b.croquin@labsoft.fr</td>\n",
       "      <td>teamber@labsoft.fr</td>\n",
       "      <td>DEVELOPPEMENT</td>\n",
       "    </tr>\n",
       "  </tbody>\n",
       "</table>\n",
       "</div>"
      ],
      "text/plain": [
       "                                               Objet  \\\n",
       "0  Merci d avoir modifié TEAMBER, Logiciel gestio...   \n",
       "1  Vielen Dank, dass Sie Änderungen für TEAMBER, ...   \n",
       "2                 [TEAMBER] Notes réunion 08 Janvier   \n",
       "3                 [TEAMBER] Notes réunion 08 Janvier   \n",
       "4                 [TEAMBER] Notes réunion 08 Janvier   \n",
       "\n",
       "                       Expéditeur               Destinataire  \\\n",
       "0  noreply-maps-issues@google.com  alexis.cavaroc@teamber.fr   \n",
       "1  noreply-maps-issues@google.com  alexis.cavaroc@teamber.fr   \n",
       "2            b.croquin@labsoft.fr        l.bancel@labsoft.fr   \n",
       "3            b.croquin@labsoft.fr         teamber@teamber.fr   \n",
       "4            b.croquin@labsoft.fr         teamber@labsoft.fr   \n",
       "\n",
       "                    Projet  \n",
       "0  AGENCE DE COMMUNICATION  \n",
       "1  AGENCE DE COMMUNICATION  \n",
       "2            DEVELOPPEMENT  \n",
       "3            DEVELOPPEMENT  \n",
       "4            DEVELOPPEMENT  "
      ]
     },
     "execution_count": 2,
     "metadata": {},
     "output_type": "execute_result"
    }
   ],
   "source": [
    "df = pd.read_excel('DATA.xlsx')\n",
    "df.head()"
   ]
  },
  {
   "cell_type": "markdown",
   "metadata": {},
   "source": [
    "## Fonctions pour la transformation des données textuelles en nombres :"
   ]
  },
  {
   "cell_type": "code",
   "execution_count": 10,
   "metadata": {},
   "outputs": [],
   "source": [
    "def vectorize(X,col):\n",
    "    tfidf_vectorizer = pickle.load(open(\"TfidfVectorizer\"+col,'rb'))\n",
    "    X_tfidf = tfidf_vectorizer.transform(X)\n",
    "    return X_tfidf\n",
    "\n",
    "def transform_textcolumns(X, textcolumns):\n",
    "    col = textcolumns[0]\n",
    "    out = vectorize(X[col],col)\n",
    "    for i in range(1,len(textcolumns)) :\n",
    "        col = textcolumns[i]\n",
    "        out_next = vectorize(X[col],col)\n",
    "        out = hstack((out, out_next))\n",
    "    return out"
   ]
  },
  {
   "cell_type": "markdown",
   "metadata": {},
   "source": [
    "## Mails à prédire  (échantillon de 5 mails):"
   ]
  },
  {
   "cell_type": "code",
   "execution_count": 11,
   "metadata": {},
   "outputs": [
    {
     "data": {
      "text/html": [
       "<div>\n",
       "<style scoped>\n",
       "    .dataframe tbody tr th:only-of-type {\n",
       "        vertical-align: middle;\n",
       "    }\n",
       "\n",
       "    .dataframe tbody tr th {\n",
       "        vertical-align: top;\n",
       "    }\n",
       "\n",
       "    .dataframe thead th {\n",
       "        text-align: right;\n",
       "    }\n",
       "</style>\n",
       "<table border=\"1\" class=\"dataframe\">\n",
       "  <thead>\n",
       "    <tr style=\"text-align: right;\">\n",
       "      <th></th>\n",
       "      <th>Objet</th>\n",
       "      <th>Expéditeur</th>\n",
       "      <th>Destinataire</th>\n",
       "    </tr>\n",
       "  </thead>\n",
       "  <tbody>\n",
       "    <tr>\n",
       "      <th>58993</th>\n",
       "      <td>RE: Compte-rendu formation</td>\n",
       "      <td>sebastien.perrot@teamber.fr</td>\n",
       "      <td>marie-laure.langlois@dgla.net</td>\n",
       "    </tr>\n",
       "    <tr>\n",
       "      <th>12113</th>\n",
       "      <td>copies d écran 15/01</td>\n",
       "      <td>jm.lami@cabinet-ectare.fr</td>\n",
       "      <td>sebastien.perrot@teamber.fr</td>\n",
       "    </tr>\n",
       "    <tr>\n",
       "      <th>57417</th>\n",
       "      <td>RE: Classement depuis Outlook</td>\n",
       "      <td>r.testut@labsoft.fr</td>\n",
       "      <td>sebastien.perrot@teamber.fr</td>\n",
       "    </tr>\n",
       "    <tr>\n",
       "      <th>103547</th>\n",
       "      <td>RE: PLENETUDE - suite MàJ d hier</td>\n",
       "      <td>support@teamber.fr</td>\n",
       "      <td>support@teamber.fr</td>\n",
       "    </tr>\n",
       "    <tr>\n",
       "      <th>30151</th>\n",
       "      <td>NOEUD Bloqué</td>\n",
       "      <td>raphael.courrege@plenetude.fr</td>\n",
       "      <td>alexis.cavaroc@teamber.fr</td>\n",
       "    </tr>\n",
       "  </tbody>\n",
       "</table>\n",
       "</div>"
      ],
      "text/plain": [
       "                                   Objet                     Expéditeur  \\\n",
       "58993         RE: Compte-rendu formation    sebastien.perrot@teamber.fr   \n",
       "12113               copies d écran 15/01      jm.lami@cabinet-ectare.fr   \n",
       "57417      RE: Classement depuis Outlook            r.testut@labsoft.fr   \n",
       "103547  RE: PLENETUDE - suite MàJ d hier             support@teamber.fr   \n",
       "30151                       NOEUD Bloqué  raphael.courrege@plenetude.fr   \n",
       "\n",
       "                         Destinataire  \n",
       "58993   marie-laure.langlois@dgla.net  \n",
       "12113     sebastien.perrot@teamber.fr  \n",
       "57417     sebastien.perrot@teamber.fr  \n",
       "103547             support@teamber.fr  \n",
       "30151       alexis.cavaroc@teamber.fr  "
      ]
     },
     "execution_count": 11,
     "metadata": {},
     "output_type": "execute_result"
    }
   ],
   "source": [
    "cols_train = ['Objet','Expéditeur','Destinataire']\n",
    "mails_to_predict = df.sample(5)\n",
    "real_categories = mails_to_predict['Projet']\n",
    "mails_to_predict = mails_to_predict[['Objet','Expéditeur',\"Destinataire\"]]\n",
    "mails_to_predict"
   ]
  },
  {
   "cell_type": "markdown",
   "metadata": {},
   "source": [
    "## Chargement du modèle déjà entraîné :"
   ]
  },
  {
   "cell_type": "code",
   "execution_count": 15,
   "metadata": {},
   "outputs": [],
   "source": [
    "model = pickle.load(open('MailClassifier','rb'))"
   ]
  },
  {
   "cell_type": "markdown",
   "metadata": {},
   "source": [
    "## Prédictions grâce au modèle :\n",
    "\n",
    "- première étape : vectoriser le texte pour le rendre compréhensible par le modèle\n",
    "\n",
    "- prédire grâce au modèle"
   ]
  },
  {
   "cell_type": "code",
   "execution_count": 16,
   "metadata": {},
   "outputs": [
    {
     "name": "stdout",
     "output_type": "stream",
     "text": [
      "Le modèle fait les prédictions suivantes :\n",
      " ['ZUO PARIS' 'CABINET ECTARE' 'DEVELOPPEMENT' 'PLENETUDE' 'PLENETUDE'] \n",
      "\n",
      "Les vrais projets sont :\n",
      " 58993          ZUO PARIS\n",
      "12113     CABINET ECTARE\n",
      "57417      DEVELOPPEMENT\n",
      "103547         PLENETUDE\n",
      "30151          PLENETUDE\n",
      "Name: Projet, dtype: object\n"
     ]
    }
   ],
   "source": [
    "textcolumns = [\"Objet\",'Expéditeur','Destinataire']\n",
    "mails_to_predict_transformed = transform_textcolumns(mails_to_predict[cols_train], textcolumns)\n",
    "\n",
    "print('Le modèle fait les prédictions suivantes :\\n',\n",
    "      model.predict(mails_to_predict_transformed),\n",
    "      '\\n\\nLes vrais projets sont :\\n',\n",
    "      real_categories)"
   ]
  }
 ],
 "metadata": {
  "kernelspec": {
   "display_name": "Python 3",
   "language": "python",
   "name": "python3"
  },
  "language_info": {
   "codemirror_mode": {
    "name": "ipython",
    "version": 3
   },
   "file_extension": ".py",
   "mimetype": "text/x-python",
   "name": "python",
   "nbconvert_exporter": "python",
   "pygments_lexer": "ipython3",
   "version": "3.8.8"
  }
 },
 "nbformat": 4,
 "nbformat_minor": 4
}
