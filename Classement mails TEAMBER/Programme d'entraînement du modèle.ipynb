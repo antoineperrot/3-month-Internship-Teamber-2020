{
 "cells": [
  {
   "cell_type": "code",
   "execution_count": 1,
   "metadata": {},
   "outputs": [],
   "source": [
    "import pandas as pd\n",
    "\n",
    "# Text vectorization :\n",
    "from sklearn.feature_extraction.text import TfidfVectorizer\n",
    "\n",
    "# Le modèle que l'on va entraîner :\n",
    "from sklearn.svm import LinearSVC\n",
    "\n",
    "# manipulation des données :\n",
    "from sklearn.model_selection import train_test_split\n",
    "\n",
    "import pickle\n",
    "from scipy.sparse import hstack"
   ]
  },
  {
   "cell_type": "markdown",
   "metadata": {},
   "source": [
    "## Importation des données"
   ]
  },
  {
   "cell_type": "code",
   "execution_count": 6,
   "metadata": {
    "scrolled": true
   },
   "outputs": [
    {
     "data": {
      "text/html": [
       "<div>\n",
       "<style scoped>\n",
       "    .dataframe tbody tr th:only-of-type {\n",
       "        vertical-align: middle;\n",
       "    }\n",
       "\n",
       "    .dataframe tbody tr th {\n",
       "        vertical-align: top;\n",
       "    }\n",
       "\n",
       "    .dataframe thead th {\n",
       "        text-align: right;\n",
       "    }\n",
       "</style>\n",
       "<table border=\"1\" class=\"dataframe\">\n",
       "  <thead>\n",
       "    <tr style=\"text-align: right;\">\n",
       "      <th></th>\n",
       "      <th>Objet</th>\n",
       "      <th>Expéditeur</th>\n",
       "      <th>Destinataire</th>\n",
       "      <th>Projet</th>\n",
       "    </tr>\n",
       "  </thead>\n",
       "  <tbody>\n",
       "    <tr>\n",
       "      <th>0</th>\n",
       "      <td>Merci d avoir modifié TEAMBER, Logiciel gestio...</td>\n",
       "      <td>noreply-maps-issues@google.com</td>\n",
       "      <td>alexis.cavaroc@teamber.fr</td>\n",
       "      <td>AGENCE DE COMMUNICATION</td>\n",
       "    </tr>\n",
       "    <tr>\n",
       "      <th>1</th>\n",
       "      <td>Vielen Dank, dass Sie Änderungen für TEAMBER, ...</td>\n",
       "      <td>noreply-maps-issues@google.com</td>\n",
       "      <td>alexis.cavaroc@teamber.fr</td>\n",
       "      <td>AGENCE DE COMMUNICATION</td>\n",
       "    </tr>\n",
       "    <tr>\n",
       "      <th>2</th>\n",
       "      <td>[TEAMBER] Notes réunion 08 Janvier</td>\n",
       "      <td>b.croquin@labsoft.fr</td>\n",
       "      <td>l.bancel@labsoft.fr</td>\n",
       "      <td>DEVELOPPEMENT</td>\n",
       "    </tr>\n",
       "    <tr>\n",
       "      <th>3</th>\n",
       "      <td>[TEAMBER] Notes réunion 08 Janvier</td>\n",
       "      <td>b.croquin@labsoft.fr</td>\n",
       "      <td>teamber@teamber.fr</td>\n",
       "      <td>DEVELOPPEMENT</td>\n",
       "    </tr>\n",
       "    <tr>\n",
       "      <th>4</th>\n",
       "      <td>[TEAMBER] Notes réunion 08 Janvier</td>\n",
       "      <td>b.croquin@labsoft.fr</td>\n",
       "      <td>teamber@labsoft.fr</td>\n",
       "      <td>DEVELOPPEMENT</td>\n",
       "    </tr>\n",
       "  </tbody>\n",
       "</table>\n",
       "</div>"
      ],
      "text/plain": [
       "                                               Objet  \\\n",
       "0  Merci d avoir modifié TEAMBER, Logiciel gestio...   \n",
       "1  Vielen Dank, dass Sie Änderungen für TEAMBER, ...   \n",
       "2                 [TEAMBER] Notes réunion 08 Janvier   \n",
       "3                 [TEAMBER] Notes réunion 08 Janvier   \n",
       "4                 [TEAMBER] Notes réunion 08 Janvier   \n",
       "\n",
       "                       Expéditeur               Destinataire  \\\n",
       "0  noreply-maps-issues@google.com  alexis.cavaroc@teamber.fr   \n",
       "1  noreply-maps-issues@google.com  alexis.cavaroc@teamber.fr   \n",
       "2            b.croquin@labsoft.fr        l.bancel@labsoft.fr   \n",
       "3            b.croquin@labsoft.fr         teamber@teamber.fr   \n",
       "4            b.croquin@labsoft.fr         teamber@labsoft.fr   \n",
       "\n",
       "                    Projet  \n",
       "0  AGENCE DE COMMUNICATION  \n",
       "1  AGENCE DE COMMUNICATION  \n",
       "2            DEVELOPPEMENT  \n",
       "3            DEVELOPPEMENT  \n",
       "4            DEVELOPPEMENT  "
      ]
     },
     "execution_count": 6,
     "metadata": {},
     "output_type": "execute_result"
    }
   ],
   "source": [
    "df = pd.read_excel('DATA.xlsx')\n",
    "df.head()"
   ]
  },
  {
   "cell_type": "markdown",
   "metadata": {},
   "source": [
    "## fonctions rédigées pour la vectorisation du texte :"
   ]
  },
  {
   "cell_type": "code",
   "execution_count": 7,
   "metadata": {},
   "outputs": [],
   "source": [
    "def fit_vectorize(X, col):\n",
    "    tfidf_vectorizer = TfidfVectorizer()\n",
    "    X_tfidf = tfidf_vectorizer.fit_transform(X)\n",
    "    pickle.dump(tfidf_vectorizer,       open(\"TfidfVectorizer\" + col,'wb'))\n",
    "    return X_tfidf\n",
    "\n",
    "def vectorize(X,col):\n",
    "    tfidf_vectorizer = pickle.load(open(\"TfidfVectorizer\"+col,'rb'))\n",
    "    X_tfidf = tfidf_vectorizer.transform(X)\n",
    "    return X_tfidf\n",
    "\n",
    "def fit_transform_textcolumns(X, textcolumns):\n",
    "    col = textcolumns[0]\n",
    "    out = fit_vectorize(X[col],col)\n",
    "    for i in range(1,len(textcolumns)) :\n",
    "        col = textcolumns[i]\n",
    "        out_next = fit_vectorize(X[col],col)\n",
    "        out = hstack((out, out_next))\n",
    "    return out\n",
    "\n",
    "def transform_textcolumns(X, textcolumns):\n",
    "    col = textcolumns[0]\n",
    "    out = vectorize(X[col],col)\n",
    "    for i in range(1,len(textcolumns)) :\n",
    "        col = textcolumns[i]\n",
    "        out_next = vectorize(X[col],col)\n",
    "        out = hstack((out, out_next))\n",
    "    return out"
   ]
  },
  {
   "cell_type": "markdown",
   "metadata": {},
   "source": [
    "## Séparation du dataset en deux parties train/test :"
   ]
  },
  {
   "cell_type": "code",
   "execution_count": 12,
   "metadata": {},
   "outputs": [],
   "source": [
    "cols_train = ['Objet','Expéditeur','Destinataire']\n",
    "X_train, X_test, y_train, y_test = train_test_split(df[cols_train], df['Projet'],\n",
    "                                                    test_size=.2, shuffle = True)"
   ]
  },
  {
   "cell_type": "markdown",
   "metadata": {},
   "source": [
    "## Vectorisation des colonnes textuelles :"
   ]
  },
  {
   "cell_type": "code",
   "execution_count": 13,
   "metadata": {},
   "outputs": [],
   "source": [
    "textcolumns = [\"Objet\",'Expéditeur','Destinataire']\n",
    "X_train_vect= fit_transform_textcolumns(X_train,textcolumns)\n",
    "X_test_vect = transform_textcolumns(X_test,textcolumns)"
   ]
  },
  {
   "cell_type": "markdown",
   "metadata": {},
   "source": [
    "## Entraînement du modèle :"
   ]
  },
  {
   "cell_type": "code",
   "execution_count": 14,
   "metadata": {},
   "outputs": [
    {
     "name": "stdout",
     "output_type": "stream",
     "text": [
      "Modèle entrainé sur :  135806 mails\n",
      "Pouvant être classés dans  ZUO PARIS projets différents\n",
      "Accuracy :  0.9152627238454288\n"
     ]
    }
   ],
   "source": [
    "model = LinearSVC()\n",
    "model.fit(X_train_vect,y_train)\n",
    "print(\"Modèle entrainé sur : \",X_train_vect.shape[0],\n",
    "      \"mails\\nPouvant être classés dans \",y_test.max(),\n",
    "      'projets différents\\nAccuracy : ',model.score(X_test_vect,y_test))"
   ]
  },
  {
   "cell_type": "markdown",
   "metadata": {},
   "source": [
    "## Sauvegarde du modèle :"
   ]
  },
  {
   "cell_type": "code",
   "execution_count": 17,
   "metadata": {},
   "outputs": [],
   "source": [
    "pickle.dump(model,open(\"MailClassifier\",'wb'))"
   ]
  },
  {
   "cell_type": "code",
   "execution_count": 16,
   "metadata": {},
   "outputs": [
    {
     "data": {
      "text/plain": [
       "<135806x10647 sparse matrix of type '<class 'numpy.float64'>'\n",
       "\twith 1641679 stored elements in COOrdinate format>"
      ]
     },
     "execution_count": 16,
     "metadata": {},
     "output_type": "execute_result"
    }
   ],
   "source": [
    "X_train_vect"
   ]
  }
 ],
 "metadata": {
  "kernelspec": {
   "display_name": "Python 3",
   "language": "python",
   "name": "python3"
  },
  "language_info": {
   "codemirror_mode": {
    "name": "ipython",
    "version": 3
   },
   "file_extension": ".py",
   "mimetype": "text/x-python",
   "name": "python",
   "nbconvert_exporter": "python",
   "pygments_lexer": "ipython3",
   "version": "3.7.1"
  }
 },
 "nbformat": 4,
 "nbformat_minor": 4
}
