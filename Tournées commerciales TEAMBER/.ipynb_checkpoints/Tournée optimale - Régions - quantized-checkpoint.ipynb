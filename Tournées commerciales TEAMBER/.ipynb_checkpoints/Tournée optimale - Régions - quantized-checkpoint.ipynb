{
 "cells": [
  {
   "cell_type": "code",
   "execution_count": 2,
   "metadata": {},
   "outputs": [],
   "source": [
    "import pandas as pd\n",
    "import numpy as np\n",
    "import matplotlib.pyplot as plt\n",
    "import datetime\n",
    "from tqdm import tqdm"
   ]
  },
  {
   "cell_type": "markdown",
   "metadata": {},
   "source": [
    "# Objectif : Suggérer le meilleur trajet possible entre toutes les adresses d'un secteur donné (région ou cercle de 100km de diam)"
   ]
  },
  {
   "cell_type": "markdown",
   "metadata": {},
   "source": [
    "## Chargement fichier complet :"
   ]
  },
  {
   "cell_type": "code",
   "execution_count": 3,
   "metadata": {},
   "outputs": [
    {
     "ename": "KeyError",
     "evalue": "\"['Unnamed: 0'] not found in axis\"",
     "output_type": "error",
     "traceback": [
      "\u001b[1;31m---------------------------------------------------------------------------\u001b[0m",
      "\u001b[1;31mKeyError\u001b[0m                                  Traceback (most recent call last)",
      "\u001b[1;32m<ipython-input-3-fcb83ef63aa8>\u001b[0m in \u001b[0;36m<module>\u001b[1;34m\u001b[0m\n\u001b[0;32m      1\u001b[0m \u001b[0mdf\u001b[0m \u001b[1;33m=\u001b[0m \u001b[0mpd\u001b[0m\u001b[1;33m.\u001b[0m\u001b[0mread_excel\u001b[0m\u001b[1;33m(\u001b[0m\u001b[1;34m'ADRESSES_COMPLETES.xlsx'\u001b[0m\u001b[1;33m)\u001b[0m\u001b[1;33m\u001b[0m\u001b[1;33m\u001b[0m\u001b[0m\n\u001b[1;32m----> 2\u001b[1;33m \u001b[0mdf\u001b[0m\u001b[1;33m.\u001b[0m\u001b[0mdrop\u001b[0m\u001b[1;33m(\u001b[0m\u001b[1;34m'Unnamed: 0'\u001b[0m\u001b[1;33m,\u001b[0m\u001b[0maxis\u001b[0m\u001b[1;33m=\u001b[0m\u001b[1;36m1\u001b[0m\u001b[1;33m,\u001b[0m\u001b[0minplace\u001b[0m\u001b[1;33m=\u001b[0m\u001b[1;32mTrue\u001b[0m\u001b[1;33m)\u001b[0m\u001b[1;33m\u001b[0m\u001b[1;33m\u001b[0m\u001b[0m\n\u001b[0m\u001b[0;32m      3\u001b[0m \u001b[0mdf\u001b[0m\u001b[1;33m.\u001b[0m\u001b[0mdrop_duplicates\u001b[0m\u001b[1;33m(\u001b[0m\u001b[0msubset\u001b[0m\u001b[1;33m=\u001b[0m\u001b[1;34m'Adresse'\u001b[0m\u001b[1;33m,\u001b[0m\u001b[0mkeep\u001b[0m\u001b[1;33m=\u001b[0m\u001b[1;34m'first'\u001b[0m\u001b[1;33m,\u001b[0m\u001b[0minplace\u001b[0m\u001b[1;33m=\u001b[0m\u001b[1;32mTrue\u001b[0m\u001b[1;33m)\u001b[0m\u001b[1;33m\u001b[0m\u001b[1;33m\u001b[0m\u001b[0m\n\u001b[0;32m      4\u001b[0m \u001b[0mdf\u001b[0m \u001b[1;33m=\u001b[0m \u001b[0mdf\u001b[0m\u001b[1;33m.\u001b[0m\u001b[0mloc\u001b[0m\u001b[1;33m[\u001b[0m\u001b[0mdf\u001b[0m\u001b[1;33m[\u001b[0m\u001b[1;34m'Latitude'\u001b[0m\u001b[1;33m]\u001b[0m\u001b[1;33m>\u001b[0m\u001b[1;36m40\u001b[0m\u001b[1;33m]\u001b[0m\u001b[1;33m.\u001b[0m\u001b[0mreset_index\u001b[0m\u001b[1;33m(\u001b[0m\u001b[0mdrop\u001b[0m\u001b[1;33m=\u001b[0m\u001b[1;32mTrue\u001b[0m\u001b[1;33m)\u001b[0m\u001b[1;33m\u001b[0m\u001b[1;33m\u001b[0m\u001b[0m\n\u001b[0;32m      5\u001b[0m \u001b[0mplt\u001b[0m\u001b[1;33m.\u001b[0m\u001b[0mscatter\u001b[0m\u001b[1;33m(\u001b[0m\u001b[0mdf\u001b[0m\u001b[1;33m[\u001b[0m\u001b[1;34m'Longitude'\u001b[0m\u001b[1;33m]\u001b[0m\u001b[1;33m,\u001b[0m\u001b[0mdf\u001b[0m\u001b[1;33m[\u001b[0m\u001b[1;34m'Latitude'\u001b[0m\u001b[1;33m]\u001b[0m\u001b[1;33m,\u001b[0m\u001b[0mmarker\u001b[0m\u001b[1;33m=\u001b[0m\u001b[1;34m'+'\u001b[0m\u001b[1;33m)\u001b[0m\u001b[1;33m;\u001b[0m\u001b[1;33m\u001b[0m\u001b[1;33m\u001b[0m\u001b[0m\n",
      "\u001b[1;32m~\\Anaconda3\\lib\\site-packages\\pandas\\core\\frame.py\u001b[0m in \u001b[0;36mdrop\u001b[1;34m(self, labels, axis, index, columns, level, inplace, errors)\u001b[0m\n\u001b[0;32m   3695\u001b[0m                                            \u001b[0mindex\u001b[0m\u001b[1;33m=\u001b[0m\u001b[0mindex\u001b[0m\u001b[1;33m,\u001b[0m \u001b[0mcolumns\u001b[0m\u001b[1;33m=\u001b[0m\u001b[0mcolumns\u001b[0m\u001b[1;33m,\u001b[0m\u001b[1;33m\u001b[0m\u001b[1;33m\u001b[0m\u001b[0m\n\u001b[0;32m   3696\u001b[0m                                            \u001b[0mlevel\u001b[0m\u001b[1;33m=\u001b[0m\u001b[0mlevel\u001b[0m\u001b[1;33m,\u001b[0m \u001b[0minplace\u001b[0m\u001b[1;33m=\u001b[0m\u001b[0minplace\u001b[0m\u001b[1;33m,\u001b[0m\u001b[1;33m\u001b[0m\u001b[1;33m\u001b[0m\u001b[0m\n\u001b[1;32m-> 3697\u001b[1;33m                                            errors=errors)\n\u001b[0m\u001b[0;32m   3698\u001b[0m \u001b[1;33m\u001b[0m\u001b[0m\n\u001b[0;32m   3699\u001b[0m     @rewrite_axis_style_signature('mapper', [('copy', True),\n",
      "\u001b[1;32m~\\Anaconda3\\lib\\site-packages\\pandas\\core\\generic.py\u001b[0m in \u001b[0;36mdrop\u001b[1;34m(self, labels, axis, index, columns, level, inplace, errors)\u001b[0m\n\u001b[0;32m   3109\u001b[0m         \u001b[1;32mfor\u001b[0m \u001b[0maxis\u001b[0m\u001b[1;33m,\u001b[0m \u001b[0mlabels\u001b[0m \u001b[1;32min\u001b[0m \u001b[0maxes\u001b[0m\u001b[1;33m.\u001b[0m\u001b[0mitems\u001b[0m\u001b[1;33m(\u001b[0m\u001b[1;33m)\u001b[0m\u001b[1;33m:\u001b[0m\u001b[1;33m\u001b[0m\u001b[1;33m\u001b[0m\u001b[0m\n\u001b[0;32m   3110\u001b[0m             \u001b[1;32mif\u001b[0m \u001b[0mlabels\u001b[0m \u001b[1;32mis\u001b[0m \u001b[1;32mnot\u001b[0m \u001b[1;32mNone\u001b[0m\u001b[1;33m:\u001b[0m\u001b[1;33m\u001b[0m\u001b[1;33m\u001b[0m\u001b[0m\n\u001b[1;32m-> 3111\u001b[1;33m                 \u001b[0mobj\u001b[0m \u001b[1;33m=\u001b[0m \u001b[0mobj\u001b[0m\u001b[1;33m.\u001b[0m\u001b[0m_drop_axis\u001b[0m\u001b[1;33m(\u001b[0m\u001b[0mlabels\u001b[0m\u001b[1;33m,\u001b[0m \u001b[0maxis\u001b[0m\u001b[1;33m,\u001b[0m \u001b[0mlevel\u001b[0m\u001b[1;33m=\u001b[0m\u001b[0mlevel\u001b[0m\u001b[1;33m,\u001b[0m \u001b[0merrors\u001b[0m\u001b[1;33m=\u001b[0m\u001b[0merrors\u001b[0m\u001b[1;33m)\u001b[0m\u001b[1;33m\u001b[0m\u001b[1;33m\u001b[0m\u001b[0m\n\u001b[0m\u001b[0;32m   3112\u001b[0m \u001b[1;33m\u001b[0m\u001b[0m\n\u001b[0;32m   3113\u001b[0m         \u001b[1;32mif\u001b[0m \u001b[0minplace\u001b[0m\u001b[1;33m:\u001b[0m\u001b[1;33m\u001b[0m\u001b[1;33m\u001b[0m\u001b[0m\n",
      "\u001b[1;32m~\\Anaconda3\\lib\\site-packages\\pandas\\core\\generic.py\u001b[0m in \u001b[0;36m_drop_axis\u001b[1;34m(self, labels, axis, level, errors)\u001b[0m\n\u001b[0;32m   3141\u001b[0m                 \u001b[0mnew_axis\u001b[0m \u001b[1;33m=\u001b[0m \u001b[0maxis\u001b[0m\u001b[1;33m.\u001b[0m\u001b[0mdrop\u001b[0m\u001b[1;33m(\u001b[0m\u001b[0mlabels\u001b[0m\u001b[1;33m,\u001b[0m \u001b[0mlevel\u001b[0m\u001b[1;33m=\u001b[0m\u001b[0mlevel\u001b[0m\u001b[1;33m,\u001b[0m \u001b[0merrors\u001b[0m\u001b[1;33m=\u001b[0m\u001b[0merrors\u001b[0m\u001b[1;33m)\u001b[0m\u001b[1;33m\u001b[0m\u001b[1;33m\u001b[0m\u001b[0m\n\u001b[0;32m   3142\u001b[0m             \u001b[1;32melse\u001b[0m\u001b[1;33m:\u001b[0m\u001b[1;33m\u001b[0m\u001b[1;33m\u001b[0m\u001b[0m\n\u001b[1;32m-> 3143\u001b[1;33m                 \u001b[0mnew_axis\u001b[0m \u001b[1;33m=\u001b[0m \u001b[0maxis\u001b[0m\u001b[1;33m.\u001b[0m\u001b[0mdrop\u001b[0m\u001b[1;33m(\u001b[0m\u001b[0mlabels\u001b[0m\u001b[1;33m,\u001b[0m \u001b[0merrors\u001b[0m\u001b[1;33m=\u001b[0m\u001b[0merrors\u001b[0m\u001b[1;33m)\u001b[0m\u001b[1;33m\u001b[0m\u001b[1;33m\u001b[0m\u001b[0m\n\u001b[0m\u001b[0;32m   3144\u001b[0m             \u001b[0mresult\u001b[0m \u001b[1;33m=\u001b[0m \u001b[0mself\u001b[0m\u001b[1;33m.\u001b[0m\u001b[0mreindex\u001b[0m\u001b[1;33m(\u001b[0m\u001b[1;33m**\u001b[0m\u001b[1;33m{\u001b[0m\u001b[0maxis_name\u001b[0m\u001b[1;33m:\u001b[0m \u001b[0mnew_axis\u001b[0m\u001b[1;33m}\u001b[0m\u001b[1;33m)\u001b[0m\u001b[1;33m\u001b[0m\u001b[1;33m\u001b[0m\u001b[0m\n\u001b[0;32m   3145\u001b[0m \u001b[1;33m\u001b[0m\u001b[0m\n",
      "\u001b[1;32m~\\Anaconda3\\lib\\site-packages\\pandas\\core\\indexes\\base.py\u001b[0m in \u001b[0;36mdrop\u001b[1;34m(self, labels, errors)\u001b[0m\n\u001b[0;32m   4402\u001b[0m             \u001b[1;32mif\u001b[0m \u001b[0merrors\u001b[0m \u001b[1;33m!=\u001b[0m \u001b[1;34m'ignore'\u001b[0m\u001b[1;33m:\u001b[0m\u001b[1;33m\u001b[0m\u001b[1;33m\u001b[0m\u001b[0m\n\u001b[0;32m   4403\u001b[0m                 raise KeyError(\n\u001b[1;32m-> 4404\u001b[1;33m                     '{} not found in axis'.format(labels[mask]))\n\u001b[0m\u001b[0;32m   4405\u001b[0m             \u001b[0mindexer\u001b[0m \u001b[1;33m=\u001b[0m \u001b[0mindexer\u001b[0m\u001b[1;33m[\u001b[0m\u001b[1;33m~\u001b[0m\u001b[0mmask\u001b[0m\u001b[1;33m]\u001b[0m\u001b[1;33m\u001b[0m\u001b[1;33m\u001b[0m\u001b[0m\n\u001b[0;32m   4406\u001b[0m         \u001b[1;32mreturn\u001b[0m \u001b[0mself\u001b[0m\u001b[1;33m.\u001b[0m\u001b[0mdelete\u001b[0m\u001b[1;33m(\u001b[0m\u001b[0mindexer\u001b[0m\u001b[1;33m)\u001b[0m\u001b[1;33m\u001b[0m\u001b[1;33m\u001b[0m\u001b[0m\n",
      "\u001b[1;31mKeyError\u001b[0m: \"['Unnamed: 0'] not found in axis\""
     ]
    }
   ],
   "source": [
    "df = pd.read_excel('ADRESSES_COMPLETES.xlsx')\n",
    "df.drop('Unnamed: 0',axis=1,inplace=True)\n",
    "df.drop_duplicates(subset='Adresse',keep='first',inplace=True)\n",
    "df = df.loc[df['Latitude']>40].reset_index(drop=True)\n",
    "plt.scatter(df['Longitude'],df['Latitude'],marker='+');\n",
    "df.head()"
   ]
  },
  {
   "cell_type": "markdown",
   "metadata": {},
   "source": [
    "## Première façon de faire notre sélection d'adresses pour la tournée : un centre et un rayon.\n",
    "\n",
    "\n",
    "Cela nécessite alors de connaître les coordonnées GPS de toutes les adresses afin de calculer la distance à vol d'oiseau et de voir si elle est inférieure au rayon choisi."
   ]
  },
  {
   "cell_type": "code",
   "execution_count": null,
   "metadata": {},
   "outputs": [],
   "source": [
    "from math import sin, cos, sqrt, atan2, radians\n",
    "\n",
    "def dist_vol_doiseau(lat1,lon1,lat2,lon2):\n",
    "    Lat1 = radians(lat1)\n",
    "    Lon1 = radians(lon1)\n",
    "    Lat2 = radians(lat2)\n",
    "    Lon2 = radians(lon2)\n",
    "    R = 6373.0\n",
    "    dlon = Lon2 - Lon1\n",
    "    dlat = Lat2 - Lat1\n",
    "    a = sin(dlat / 2)**2 + cos(Lat1) * cos(Lat2) * sin(dlon / 2)**2\n",
    "    c = 2 * atan2(sqrt(a), sqrt(1 - a))\n",
    "    distance = R * c\n",
    "    return distance\n"
   ]
  },
  {
   "cell_type": "code",
   "execution_count": null,
   "metadata": {
    "scrolled": false
   },
   "outputs": [],
   "source": [
    "# Paramètres du cercle : (en degrés et km)\n",
    "CENTRE_CERCLE_LAT = 43.6    #degrés    \n",
    "CENTRE_CERCLE_LON = 1.45    #degrés\n",
    "RAYON_CERCLE = 5        #en km\n",
    "\n",
    "centre_lat = CENTRE_CERCLE_LAT * np.pi/180   #conversion vers radian\n",
    "centre_lon = CENTRE_CERCLE_LON * np.pi/180   #conversion vers radian\n",
    "\n",
    "LATS = df['Latitude']*np.pi/180   #conversion des latitudes de degré vers radian\n",
    "LONGS = df['Longitude']*np.pi/180  #conversion des Longitudes de degré vers radian\n",
    "\n",
    "\n",
    "RAYON_TERRE = 6378 #en km   car non la terre n'est pas plate\n",
    "dist = np.arccos(np.cos(LATS)*np.cos(LONGS)*np.cos(centre_lat)*np.cos(centre_lon) + \\\n",
    "np.cos(LATS)*np.sin(LONGS)*np.cos(centre_lat)*np.sin(centre_lon) + \\\n",
    "np.sin(LATS)*np.sin(centre_lat)) * RAYON_TERRE  #\n",
    "\n",
    "plt.figure(figsize=(12,6))\n",
    "ax1 = plt.subplot(121,title='Carte de France')\n",
    "ax1.scatter(df['Longitude'],df['Latitude'],marker='+')\n",
    "ax1.scatter(CENTRE_CERCLE_LON,CENTRE_CERCLE_LAT,c='k',marker='+')\n",
    "\n",
    "sel = df.loc[dist<RAYON_CERCLE,].reset_index(drop=True)\n",
    "ax1.scatter(sel['Longitude'],sel['Latitude'],c='red',marker='+');\n",
    "print(len(sel),\"adresses potentielles\")\n",
    "\n",
    "ax2 = plt.subplot(122,title='Zoom sélection')\n",
    "ax2.scatter(sel['Longitude'],sel['Latitude'],c='red',marker='+');\n",
    "X = sel[['Latitude','Longitude']].values"
   ]
  },
  {
   "cell_type": "markdown",
   "metadata": {},
   "source": [
    "## Deuxième façon de faire notre sélection d'adresses pour la tournée : un ensemble de départements."
   ]
  },
  {
   "cell_type": "code",
   "execution_count": null,
   "metadata": {},
   "outputs": [],
   "source": [
    "m1 = np.zeros((len(sel),len(sel)))\n",
    "for i in range(len(sel)):\n",
    "    for j in range(i+1,len(sel)):\n",
    "        m1[i,j] = dist_vol_doiseau(sel.loc[i,'Latitude'],\n",
    "                                  sel.loc[i,'Longitude'],\n",
    "                                  sel.loc[j,'Latitude'],\n",
    "                                  sel.loc[j,'Longitude'])\n",
    "        m1[j,i] = m1[i,j]\n",
    "m1 = m1/m1.max()"
   ]
  },
  {
   "cell_type": "code",
   "execution_count": 4,
   "metadata": {
    "scrolled": false
   },
   "outputs": [
    {
     "ename": "NameError",
     "evalue": "name 'm1' is not defined",
     "output_type": "error",
     "traceback": [
      "\u001b[1;31m---------------------------------------------------------------------------\u001b[0m",
      "\u001b[1;31mNameError\u001b[0m                                 Traceback (most recent call last)",
      "\u001b[1;32m<ipython-input-4-076e71a719d3>\u001b[0m in \u001b[0;36m<module>\u001b[1;34m\u001b[0m\n\u001b[1;32m----> 1\u001b[1;33m \u001b[0mplt\u001b[0m\u001b[1;33m.\u001b[0m\u001b[0mhist\u001b[0m\u001b[1;33m(\u001b[0m\u001b[0mnp\u001b[0m\u001b[1;33m.\u001b[0m\u001b[0mndarray\u001b[0m\u001b[1;33m.\u001b[0m\u001b[0mflatten\u001b[0m\u001b[1;33m(\u001b[0m\u001b[0mm1\u001b[0m\u001b[1;33m)\u001b[0m\u001b[1;33m,\u001b[0m\u001b[0mbins\u001b[0m \u001b[1;33m=\u001b[0m \u001b[1;36m200\u001b[0m\u001b[1;33m)\u001b[0m\u001b[1;33m;\u001b[0m\u001b[1;33m\u001b[0m\u001b[1;33m\u001b[0m\u001b[0m\n\u001b[0m",
      "\u001b[1;31mNameError\u001b[0m: name 'm1' is not defined"
     ]
    }
   ],
   "source": [
    "plt.hist(np.ndarray.flatten(m1),bins = 200);"
   ]
  },
  {
   "cell_type": "code",
   "execution_count": 5,
   "metadata": {},
   "outputs": [
    {
     "ename": "NameError",
     "evalue": "name 'm1' is not defined",
     "output_type": "error",
     "traceback": [
      "\u001b[1;31m---------------------------------------------------------------------------\u001b[0m",
      "\u001b[1;31mNameError\u001b[0m                                 Traceback (most recent call last)",
      "\u001b[1;32m<ipython-input-5-0487139d13a4>\u001b[0m in \u001b[0;36m<module>\u001b[1;34m\u001b[0m\n\u001b[1;32m----> 1\u001b[1;33m \u001b[0mplt\u001b[0m\u001b[1;33m.\u001b[0m\u001b[0mplot\u001b[0m\u001b[1;33m(\u001b[0m\u001b[0mnp\u001b[0m\u001b[1;33m.\u001b[0m\u001b[0msort\u001b[0m\u001b[1;33m(\u001b[0m\u001b[0mnp\u001b[0m\u001b[1;33m.\u001b[0m\u001b[0munique\u001b[0m\u001b[1;33m(\u001b[0m\u001b[0mm1\u001b[0m\u001b[1;33m)\u001b[0m\u001b[1;33m)\u001b[0m\u001b[1;33m)\u001b[0m\u001b[1;33m\u001b[0m\u001b[1;33m\u001b[0m\u001b[0m\n\u001b[0m",
      "\u001b[1;31mNameError\u001b[0m: name 'm1' is not defined"
     ]
    }
   ],
   "source": [
    "plt.plot(np.sort(np.unique(m1)))"
   ]
  },
  {
   "cell_type": "code",
   "execution_count": 6,
   "metadata": {},
   "outputs": [],
   "source": [
    "region1 = [65,32,31,82,81,12,46,9,11,34,66,30,48]  #Occitanie\n",
    "region2 = [84,13,4,83,6,5]                         #PACA\n",
    "region3 = [15,43,7,26,38,73,74,1,69,42,3,63]       #Auvergne Rhones-Alpes\n",
    "region4 = [64,40,47,33,24,19,23,87,16,17,79]       #Nouvelle Aquitaine\n",
    "\n",
    "secteur = region1  #secteur de notre tournée"
   ]
  },
  {
   "cell_type": "code",
   "execution_count": 7,
   "metadata": {},
   "outputs": [],
   "source": [
    "df2 = df.loc[df['Département'].isin(secteur),].reset_index(drop=True)"
   ]
  },
  {
   "cell_type": "markdown",
   "metadata": {},
   "source": [
    "On peut à présent raffiner notre sélection de lieux potentiels à visiter :"
   ]
  },
  {
   "cell_type": "code",
   "execution_count": 8,
   "metadata": {
    "scrolled": false
   },
   "outputs": [
    {
     "name": "stdout",
     "output_type": "stream",
     "text": [
      "30 adresses potentielles\n"
     ]
    },
    {
     "data": {
      "image/png": "[encoded data removed]",
      "text/plain": [
       "<Figure size 576x576 with 1 Axes>"
      ]
     },
     "metadata": {
      "needs_background": "light"
     },
     "output_type": "display_data"
    }
   ],
   "source": [
    "sel = df.loc[df['Département'].isin(secteur),].reset_index(drop=True).sample(30)\n",
    "sel.reset_index(drop=True,inplace=True)\n",
    "print(len(sel),\"adresses potentielles\")\n",
    "plt.figure(figsize=(8,8))\n",
    "plt.scatter(df2['Longitude'],df['Latitude'],marker='+',c='b');\n",
    "plt.scatter(sel['Longitude'],sel['Latitude'],marker='+',c='r');\n",
    "X = sel[['Latitude','Longitude']].values"
   ]
  },
  {
   "cell_type": "code",
   "execution_count": 9,
   "metadata": {},
   "outputs": [],
   "source": [
    "m = np.zeros((len(sel),len(sel)))\n",
    "for i in range(len(sel)):\n",
    "    for j in range(i+1,len(sel)):\n",
    "        m[i,j] = np.linalg.norm(X[i,:]-X[j,:])\n",
    "        m[j,i] = m[i,j]\n",
    "m = m/m.max()"
   ]
  },
  {
   "cell_type": "code",
   "execution_count": 15,
   "metadata": {},
   "outputs": [],
   "source": [
    "def quantize(m, alpha):\n",
    "    import pickle\n",
    "    f1 = pickle.load(open('interpol','rb'))\n",
    "    m = m/m.max()\n",
    "    sorted_m = np.sort(np.unique(m)) \n",
    "    quantized_m = np.zeros(m.shape)\n",
    "    for i in range(len(sorted_m)):\n",
    "        where = np.where(m == sorted_m[i])\n",
    "        quantized_m[where] = f1(i / len(sorted_m)) *alpha+ m[where] * (1-alpha)\n",
    "    return quantized_m / quantized_m.max()"
   ]
  },
  {
   "cell_type": "code",
   "execution_count": 16,
   "metadata": {},
   "outputs": [
    {
     "data": {
      "image/png": "[encoded data removed]",
      "text/plain": [
       "<Figure size 576x432 with 1 Axes>"
      ]
     },
     "metadata": {
      "needs_background": "light"
     },
     "output_type": "display_data"
    }
   ],
   "source": [
    "plt.figure(figsize=(8,6))\n",
    "for alpha in np.linspace(0,1,5):\n",
    "    y = quantize(m,alpha)\n",
    "    plt.plot(np.sort(y.flatten()),label='alpha = '+str(alpha))\n",
    "plt.legend();"
   ]
  },
  {
   "cell_type": "markdown",
   "metadata": {},
   "source": [
    "## Fonctions pour le calcul du trajet optimal :"
   ]
  },
  {
   "cell_type": "code",
   "execution_count": 17,
   "metadata": {},
   "outputs": [],
   "source": [
    "def longueur(trajet, DMatrix):    #durée ou km\n",
    "    d = 0\n",
    "    for i in range(len(trajet)-1):\n",
    "        d  += DMatrix[trajet[i],trajet[i+1]]\n",
    "    return d\n",
    "\n",
    "def modification(x):\n",
    "    k = np.random.randint(1,len(x)-2)\n",
    "    l = np.random.randint(k+1,len(x)-1)\n",
    "    y = np.hstack([x[:k], np.flip(x[k:l+1]), x[l+1:] ])\n",
    "    return y\n",
    "\n",
    "def trajet_optimal(ordre,DM,ITERATIONS_PAR_LIEU = 800):\n",
    "    if len(ordre) <= 3:\n",
    "        return ordre.astype(int)\n",
    "    TEMPERATURE_INITIALE = 1\n",
    "    TEMPERATURE_MIN = 1e-3\n",
    "    POURCENTAGE_AVANT_TMIN = 1\n",
    "    N_iterations = ITERATIONS_PAR_LIEU * len(ordre)\n",
    "    ordre_min = ordre\n",
    "    dum = DM/DM[np.ix_(ordre,ordre)].max()\n",
    "    Proba = np.zeros(N_iterations)\n",
    "    E = np.zeros(N_iterations)\n",
    "    E[0] = longueur(ordre, dum)\n",
    "    Emin = np.copy(E)\n",
    "    T = TEMPERATURE_INITIALE\n",
    "    decay = 1 - np.exp(np.log(TEMPERATURE_MIN/TEMPERATURE_INITIALE)/POURCENTAGE_AVANT_TMIN/N_iterations)\n",
    "    for i in (range(1,N_iterations)):\n",
    "            T = T*(1-decay) if T> TEMPERATURE_MIN else TEMPERATURE_MIN\n",
    "            ordre_voisin = modification(ordre)\n",
    "            Evoisin = longueur(ordre_voisin, dum)\n",
    "            DELTA = Evoisin - E[i-1]\n",
    "            Proba[i] = min(1,np.exp( - DELTA / T))\n",
    "            if np.random.rand() < Proba[i]:\n",
    "                E[i] = Evoisin\n",
    "                ordre = np.copy(ordre_voisin)\n",
    "            else :\n",
    "                E[i] = E[i-1]\n",
    "            if E[i] < Emin[i-1]:\n",
    "                Emin[i] = E[i]\n",
    "                ordre_min = ordre\n",
    "            else :\n",
    "                Emin[i] = Emin[i-1]\n",
    "    return ordre"
   ]
  },
  {
   "cell_type": "code",
   "execution_count": 19,
   "metadata": {
    "scrolled": false
   },
   "outputs": [
    {
     "name": "stdout",
     "output_type": "stream",
     "text": [
      "0.075 0 1 0\n",
      "0.075 1 1 0\n",
      "0.075 2 1 0\n",
      "0.075 2 2 0\n",
      "0.075 3 2 0\n",
      "0.075 4 2 0\n",
      "0.075 5 2 0\n",
      "0.075 6 2 0\n",
      "0.075 6 3 0\n",
      "0.075 7 3 0\n",
      "0.075 8 3 0\n",
      "0.075 9 3 0\n",
      "0.075 9 4 0\n",
      "0.075 9 5 0\n",
      "0.075 9 6 0\n",
      "0.075 9 7 0\n",
      "0.075 9 8 0\n",
      "0.075 10 8 0\n",
      "0.075 11 8 0\n",
      "0.075 11 9 0\n",
      "0.075 12 9 0\n",
      "0.075 13 9 0\n",
      "0.075 13 10 0\n",
      "0.075 14 10 0\n",
      "0.075 15 10 0\n",
      "0.075 16 10 0\n",
      "0.075 17 10 0\n",
      "0.075 17 11 0\n",
      "0.075 18 11 0\n",
      "0.075 19 11 0\n",
      "0.075 19 12 0\n",
      "0.075 20 12 0\n",
      "0.075 21 12 0\n",
      "0.075 21 13 0\n",
      "0.075 22 13 0\n",
      "0.075 23 13 0\n",
      "0.075 24 13 0\n",
      "0.075 24 14 0\n",
      "0.075 24 15 0\n",
      "0.075 25 15 0\n",
      "0.075 26 15 0\n",
      "0.075 26 16 0\n",
      "0.075 27 16 0\n",
      "0.075 27 17 0\n",
      "0.075 28 17 0\n",
      "0.075 28 18 0\n",
      "0.075 29 18 0\n",
      "0.075 30 18 0\n",
      "0.075 31 18 0\n",
      "0.075 32 18 0\n",
      "0.075 33 18 0\n",
      "0.075 34 18 0\n",
      "0.075 35 18 0\n",
      "0.075 36 18 0\n",
      "0.075 37 18 0\n",
      "0.075 38 18 0\n",
      "0.075 38 19 0\n",
      "0.075 38 20 0\n",
      "0.075 39 20 0\n",
      "0.075 39 21 0\n",
      "0.075 39 22 0\n",
      "0.075 40 22 0\n",
      "0.075 41 22 0\n",
      "0.075 42 22 0\n",
      "0.075 43 22 0\n",
      "0.075 43 23 0\n",
      "0.075 44 23 0\n",
      "0.075 45 23 0\n",
      "0.075 45 24 0\n",
      "0.075 45 25 0\n",
      "0.075 46 25 0\n",
      "0.075 47 25 0\n",
      "0.075 48 25 0\n",
      "0.075 49 25 0\n",
      "0.075 50 25 0\n",
      "0.075 50 26 0\n",
      "0.075 51 26 0\n",
      "0.075 51 27 0\n",
      "0.075 52 27 0\n",
      "0.075 53 27 0\n",
      "0.075 53 28 0\n",
      "0.075 53 29 0\n",
      "0.075 54 29 0\n",
      "0.075 55 29 0\n",
      "0.075 55 30 0\n",
      "0.075 55 31 0\n",
      "0.075 56 31 0\n",
      "0.075 57 31 0\n",
      "0.075 58 31 0\n",
      "0.075 58 32 0\n",
      "0.075 59 32 0\n",
      "0.075 60 32 0\n",
      "0.075 61 32 0\n",
      "0.075 62 32 0\n",
      "0.075 62 33 0\n",
      "0.075 63 33 0\n",
      "0.075 64 33 0\n",
      "0.075 65 33 0\n",
      "0.075 65 34 0\n",
      "0.075 66 34 0\n"
     ]
    }
   ],
   "source": [
    "ordre = np.hstack([np.arange(len(sel)),0])\n",
    "ordre_min = ordre\n",
    "longueur_min = longueur(ordre, m)\n",
    "N = 100\n",
    "alphas = [.075]\n",
    "\n",
    "size_sel = 50\n",
    "tests = np.zeros((4,len(alphas)))\n",
    "for k in range(len(alphas)) :\n",
    "    tests[0,k] = alphas[k]\n",
    "    c_classic = 0\n",
    "    c_quantized = 0\n",
    "    c_nul = 0\n",
    "    for j in (range(N)):\n",
    "        X = df2.sample(size_sel)[['Latitude','Longitude']].values\n",
    "        m = np.zeros((size_sel,size_sel))\n",
    "        for i in range(size_sel):\n",
    "            for j in range(i+1,size_sel):\n",
    "                m[i,j] = np.linalg.norm(X[i,:]-X[j,:])\n",
    "                m[j,i] = m[i,j]\n",
    "        m = m/m.max()\n",
    "        m_quantized = quantize(m,alphas[k])\n",
    "        ordre = np.hstack([np.arange(size_sel),0]) \n",
    "        longueur_classic   = longueur(trajet_optimal(ordre,m),m)\n",
    "        longueur_quantized = longueur(trajet_optimal(ordre,m_quantized),m)\n",
    "        if longueur_classic < longueur_quantized :\n",
    "            c_classic += 1\n",
    "        if longueur_quantized < longueur_classic :\n",
    "            c_quantized += 1\n",
    "        if longueur_classic == longueur_quantized:\n",
    "            c_nul = 0\n",
    "        print(alphas[k], c_quantized, c_classic, c_nul)\n",
    "    \n",
    "    tests[1,k] = c_quantized\n",
    "    tests[2,k] = c_classic\n",
    "    tests[3,k] = c_nul"
   ]
  },
  {
   "cell_type": "code",
   "execution_count": null,
   "metadata": {},
   "outputs": [],
   "source": []
  }
 ],
 "metadata": {
  "kernelspec": {
   "display_name": "Python 3",
   "language": "python",
   "name": "python3"
  },
  "language_info": {
   "codemirror_mode": {
    "name": "ipython",
    "version": 3
   },
   "file_extension": ".py",
   "mimetype": "text/x-python",
   "name": "python",
   "nbconvert_exporter": "python",
   "pygments_lexer": "ipython3",
   "version": "3.7.1"
  }
 },
 "nbformat": 4,
 "nbformat_minor": 4
}
