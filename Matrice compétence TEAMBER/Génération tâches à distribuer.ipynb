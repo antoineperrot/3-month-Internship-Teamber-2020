{
 "cells": [
  {
   "cell_type": "code",
   "execution_count": 1,
   "metadata": {},
   "outputs": [],
   "source": [
    "import numpy as np\n",
    "import matplotlib.pyplot as plt \n",
    "import pandas as pd\n",
    "from tqdm import tqdm"
   ]
  },
  {
   "cell_type": "code",
   "execution_count": 2,
   "metadata": {},
   "outputs": [],
   "source": [
    "def simuLOI(LOI):\n",
    "    u = np.random.rand()\n",
    "    return np.where(u < np.cumsum(LOI))[0][0]\n",
    "\n",
    "def simusLOI(LOI,N):\n",
    "    U = np.zeros(N)\n",
    "    for i in range(N):\n",
    "        U[i] = simuLOI(LOI)\n",
    "    return U.astype(int)"
   ]
  },
  {
   "cell_type": "code",
   "execution_count": 12,
   "metadata": {},
   "outputs": [],
   "source": [
    "N_utilisateurs = 10\n",
    "N_competences = 20"
   ]
  },
  {
   "cell_type": "markdown",
   "metadata": {},
   "source": [
    "# Création d'une matrice de compétences: \n",
    "\n",
    "Une colonne = les niveaux de compétences d'une personne\n",
    "\n",
    "0 : ne sait pas du tout faire\n",
    "\n",
    "1 : sait faire sous surveillance\n",
    "\n",
    "2 : sait faire en autonomie\n",
    "\n",
    "3 : sait expliquer à quelqu'un d'autre"
   ]
  },
  {
   "cell_type": "code",
   "execution_count": 14,
   "metadata": {
    "scrolled": true
   },
   "outputs": [
    {
     "data": {
      "text/plain": [
       "array([[0., 2., 0., 0., 1., 1., 0., 0., 0., 1.],\n",
       "       [0., 2., 1., 2., 0., 1., 1., 1., 0., 0.],\n",
       "       [0., 2., 0., 1., 0., 1., 0., 0., 0., 1.],\n",
       "       [0., 2., 1., 3., 0., 0., 0., 2., 1., 0.],\n",
       "       [2., 3., 0., 2., 0., 0., 0., 2., 0., 1.],\n",
       "       [0., 1., 0., 3., 0., 0., 1., 0., 1., 0.],\n",
       "       [1., 1., 0., 1., 0., 2., 0., 0., 1., 2.],\n",
       "       [0., 0., 0., 2., 0., 0., 1., 0., 1., 1.],\n",
       "       [1., 3., 2., 2., 1., 0., 0., 1., 1., 1.],\n",
       "       [0., 1., 0., 1., 0., 1., 0., 1., 2., 0.],\n",
       "       [1., 2., 0., 2., 0., 0., 0., 0., 0., 2.],\n",
       "       [1., 1., 0., 3., 0., 0., 0., 0., 0., 0.],\n",
       "       [1., 1., 0., 3., 0., 0., 0., 0., 0., 0.],\n",
       "       [0., 1., 0., 2., 0., 1., 2., 1., 1., 0.],\n",
       "       [0., 1., 0., 3., 0., 2., 0., 1., 0., 1.],\n",
       "       [1., 1., 0., 2., 0., 0., 1., 2., 1., 2.],\n",
       "       [1., 1., 1., 2., 0., 0., 0., 0., 1., 0.],\n",
       "       [0., 1., 0., 2., 0., 0., 3., 1., 1., 0.],\n",
       "       [0., 1., 1., 2., 0., 0., 0., 0., 1., 0.],\n",
       "       [0., 3., 0., 2., 0., 0., 1., 0., 0., 1.]])"
      ]
     },
     "execution_count": 14,
     "metadata": {},
     "output_type": "execute_result"
    }
   ],
   "source": [
    "M = np.zeros((N_competences,N_utilisateurs))\n",
    "\n",
    "for i in range(N_utilisateurs):\n",
    "    \n",
    "    proba = np.random.exponential(.25)\n",
    "    M[:,i] = np.random.binomial(3,proba,N_competences)\n",
    "    \n",
    "M"
   ]
  },
  {
   "cell_type": "markdown",
   "metadata": {},
   "source": [
    "# Scores des compétences :"
   ]
  },
  {
   "cell_type": "code",
   "execution_count": 15,
   "metadata": {},
   "outputs": [
    {
     "data": {
      "text/plain": [
       "array([0.03496503, 0.05594406, 0.03496503, 0.06293706, 0.06993007,\n",
       "       0.04195804, 0.05594406, 0.03496503, 0.08391608, 0.04195804,\n",
       "       0.04895105, 0.03496503, 0.03496503, 0.05594406, 0.05594406,\n",
       "       0.06993007, 0.04195804, 0.05594406, 0.03496503, 0.04895105])"
      ]
     },
     "execution_count": 15,
     "metadata": {},
     "output_type": "execute_result"
    }
   ],
   "source": [
    "scores_comp = np.sum(M,axis=1)\n",
    "scores_comp /= scores_comp.sum()\n",
    "scores_comp"
   ]
  },
  {
   "cell_type": "markdown",
   "metadata": {},
   "source": [
    "# Score des utilisateurs :"
   ]
  },
  {
   "cell_type": "code",
   "execution_count": 16,
   "metadata": {},
   "outputs": [
    {
     "data": {
      "text/plain": [
       "array([0.225, 0.75 , 0.15 , 1.   , 0.05 , 0.225, 0.25 , 0.3  , 0.3  ,\n",
       "       0.325])"
      ]
     },
     "execution_count": 16,
     "metadata": {},
     "output_type": "execute_result"
    }
   ],
   "source": [
    "scores_uts = np.sum(M,axis=0)\n",
    "scores_uts /= scores_uts.max()\n",
    "scores_uts"
   ]
  },
  {
   "cell_type": "markdown",
   "metadata": {},
   "source": [
    "# Pour chaque utilisateur, s'il a déjà travaillé sur tel projet, on créé une \"Matrice historique projet\"\n",
    "\n",
    "Dans une colonne : 1 si l'utilisateur a déja travaillé, 0 sinon"
   ]
  },
  {
   "cell_type": "code",
   "execution_count": 18,
   "metadata": {},
   "outputs": [
    {
     "data": {
      "text/plain": [
       "array([[0., 0., 0., 1., 0., 0., 0., 0., 0., 0.],\n",
       "       [0., 1., 0., 0., 0., 0., 0., 0., 0., 0.],\n",
       "       [0., 0., 0., 1., 0., 0., 0., 0., 0., 0.],\n",
       "       [0., 1., 0., 0., 0., 0., 0., 0., 0., 0.],\n",
       "       [0., 1., 0., 0., 0., 0., 0., 0., 0., 0.],\n",
       "       [0., 1., 0., 0., 0., 0., 0., 0., 0., 0.],\n",
       "       [0., 0., 0., 0., 0., 0., 0., 0., 0., 1.],\n",
       "       [0., 0., 0., 0., 0., 1., 0., 0., 0., 0.],\n",
       "       [0., 1., 0., 1., 1., 0., 0., 0., 0., 0.],\n",
       "       [0., 0., 0., 1., 0., 0., 0., 1., 0., 0.],\n",
       "       [0., 1., 0., 0., 0., 0., 0., 0., 0., 0.],\n",
       "       [0., 0., 1., 0., 0., 0., 0., 0., 0., 0.],\n",
       "       [0., 1., 0., 1., 0., 0., 0., 0., 0., 0.],\n",
       "       [0., 0., 0., 0., 0., 0., 0., 0., 0., 0.],\n",
       "       [0., 0., 1., 0., 0., 0., 0., 0., 0., 0.],\n",
       "       [0., 0., 0., 1., 0., 0., 0., 0., 0., 0.],\n",
       "       [0., 0., 0., 0., 0., 0., 0., 1., 0., 0.]])"
      ]
     },
     "execution_count": 18,
     "metadata": {},
     "output_type": "execute_result"
    }
   ],
   "source": [
    "N_projets = 17\n",
    "Mp = np.zeros((N_projets, N_utilisateurs))\n",
    "\n",
    "for i in range(N_utilisateurs):\n",
    "    Mp[:,i] = np.random.binomial(1,scores_uts[i]*.3, N_projets)\n",
    "    \n",
    "Mp"
   ]
  },
  {
   "cell_type": "markdown",
   "metadata": {},
   "source": [
    "Ce calcul est fait de telle manière qu'un utilisateurs ayant bcp de compétences soit sur plusieurs projets tandis qu'un utlisateur n'ayant que peu de compétence est en général sur très peu de projets."
   ]
  },
  {
   "cell_type": "markdown",
   "metadata": {},
   "source": [
    "# Génération d'une liste de tâches. Chaque tâche comporte un identifiant, une durée, une unique compétence requise, un projet auquel elle fait référence."
   ]
  },
  {
   "cell_type": "code",
   "execution_count": 24,
   "metadata": {},
   "outputs": [],
   "source": [
    "N_taches = 50\n",
    "id_taches = np.arange(N_taches)\n",
    "projets_taches = np.random.randint(0,N_projets,N_taches)\n",
    "comp_taches = simusLOI(scores_comp,N_taches)\n",
    "durees_taches = (np.random.poisson(3,N_taches)*2 + 1 )/4\n",
    "\n",
    "df = pd.DataFrame({'ID tache':id_taches,\"Durée\":durees_taches, \"Compétence\":comp_taches,'Projet':projets_taches})"
   ]
  },
  {
   "cell_type": "markdown",
   "metadata": {},
   "source": [
    "# Export de la matrice de compétences, de la matrice d'historique projets, et des tâches à répartir"
   ]
  },
  {
   "cell_type": "code",
   "execution_count": 294,
   "metadata": {},
   "outputs": [],
   "source": [
    "#df.to_excel(\"tâches.xlsx\")\n",
    "\n",
    "## ON VERRA PLUS TARD"
   ]
  },
  {
   "cell_type": "code",
   "execution_count": 22,
   "metadata": {},
   "outputs": [],
   "source": [
    "dispo_uts = np.floor(np.random.normal(40,5,N_utilisateurs))\n",
    "\n",
    "tasks = df[['ID tache','Durée',\"Compétence\",\"Projet\"]].values.T\n",
    "ids = df['ID tache'].values\n",
    "aff = np.random.randint(0,N_utilisateurs,N_taches)\n",
    "\n",
    "x = np.array([ids,aff])"
   ]
  },
  {
   "cell_type": "code",
   "execution_count": 25,
   "metadata": {
    "scrolled": true
   },
   "outputs": [
    {
     "data": {
      "text/html": [
       "<div>\n",
       "<style scoped>\n",
       "    .dataframe tbody tr th:only-of-type {\n",
       "        vertical-align: middle;\n",
       "    }\n",
       "\n",
       "    .dataframe tbody tr th {\n",
       "        vertical-align: top;\n",
       "    }\n",
       "\n",
       "    .dataframe thead th {\n",
       "        text-align: right;\n",
       "    }\n",
       "</style>\n",
       "<table border=\"1\" class=\"dataframe\">\n",
       "  <thead>\n",
       "    <tr style=\"text-align: right;\">\n",
       "      <th></th>\n",
       "      <th>ID tache</th>\n",
       "      <th>Durée</th>\n",
       "      <th>Compétence</th>\n",
       "      <th>Projet</th>\n",
       "      <th>Assignée à</th>\n",
       "    </tr>\n",
       "  </thead>\n",
       "  <tbody>\n",
       "    <tr>\n",
       "      <th>0</th>\n",
       "      <td>0</td>\n",
       "      <td>1.75</td>\n",
       "      <td>8</td>\n",
       "      <td>9</td>\n",
       "      <td></td>\n",
       "    </tr>\n",
       "    <tr>\n",
       "      <th>1</th>\n",
       "      <td>1</td>\n",
       "      <td>3.75</td>\n",
       "      <td>7</td>\n",
       "      <td>7</td>\n",
       "      <td></td>\n",
       "    </tr>\n",
       "    <tr>\n",
       "      <th>2</th>\n",
       "      <td>2</td>\n",
       "      <td>2.75</td>\n",
       "      <td>3</td>\n",
       "      <td>11</td>\n",
       "      <td></td>\n",
       "    </tr>\n",
       "    <tr>\n",
       "      <th>3</th>\n",
       "      <td>3</td>\n",
       "      <td>1.25</td>\n",
       "      <td>1</td>\n",
       "      <td>5</td>\n",
       "      <td></td>\n",
       "    </tr>\n",
       "    <tr>\n",
       "      <th>4</th>\n",
       "      <td>4</td>\n",
       "      <td>0.75</td>\n",
       "      <td>2</td>\n",
       "      <td>12</td>\n",
       "      <td></td>\n",
       "    </tr>\n",
       "    <tr>\n",
       "      <th>5</th>\n",
       "      <td>5</td>\n",
       "      <td>0.25</td>\n",
       "      <td>18</td>\n",
       "      <td>12</td>\n",
       "      <td></td>\n",
       "    </tr>\n",
       "    <tr>\n",
       "      <th>6</th>\n",
       "      <td>6</td>\n",
       "      <td>2.75</td>\n",
       "      <td>10</td>\n",
       "      <td>7</td>\n",
       "      <td></td>\n",
       "    </tr>\n",
       "    <tr>\n",
       "      <th>7</th>\n",
       "      <td>7</td>\n",
       "      <td>1.75</td>\n",
       "      <td>9</td>\n",
       "      <td>11</td>\n",
       "      <td></td>\n",
       "    </tr>\n",
       "    <tr>\n",
       "      <th>8</th>\n",
       "      <td>8</td>\n",
       "      <td>1.75</td>\n",
       "      <td>9</td>\n",
       "      <td>1</td>\n",
       "      <td></td>\n",
       "    </tr>\n",
       "    <tr>\n",
       "      <th>9</th>\n",
       "      <td>9</td>\n",
       "      <td>0.75</td>\n",
       "      <td>6</td>\n",
       "      <td>4</td>\n",
       "      <td></td>\n",
       "    </tr>\n",
       "  </tbody>\n",
       "</table>\n",
       "</div>"
      ],
      "text/plain": [
       "   ID tache  Durée  Compétence  Projet Assignée à\n",
       "0         0   1.75           8       9           \n",
       "1         1   3.75           7       7           \n",
       "2         2   2.75           3      11           \n",
       "3         3   1.25           1       5           \n",
       "4         4   0.75           2      12           \n",
       "5         5   0.25          18      12           \n",
       "6         6   2.75          10       7           \n",
       "7         7   1.75           9      11           \n",
       "8         8   1.75           9       1           \n",
       "9         9   0.75           6       4           "
      ]
     },
     "execution_count": 25,
     "metadata": {},
     "output_type": "execute_result"
    }
   ],
   "source": [
    "df[\"Assignée à\"] =\"\"\n",
    "df.head(10)"
   ]
  },
  {
   "cell_type": "code",
   "execution_count": 26,
   "metadata": {},
   "outputs": [
    {
     "name": "stdout",
     "output_type": "stream",
     "text": [
      "Projet 0 : 6.75 h\n",
      "Projet 1 : 15.25 h\n",
      "Projet 2 : 4.0 h\n",
      "Projet 3 : 2.25 h\n",
      "Projet 4 : 0.75 h\n",
      "Projet 5 : 8.25 h\n",
      "Projet 6 : 4.5 h\n",
      "Projet 7 : 16.75 h\n",
      "Projet 8 : 2.75 h\n",
      "Projet 9 : 2.5 h\n",
      "Projet 10 : 4.0 h\n",
      "Projet 11 : 6.5 h\n",
      "Projet 12 : 3.5 h\n",
      "Projet 13 : 1.25 h\n",
      "Projet 14 : 0.0 h\n",
      "Projet 15 : 7.5 h\n",
      "Projet 16 : 2.5 h\n"
     ]
    }
   ],
   "source": [
    "for i in range(N_projets):\n",
    "    print('Projet',i,':',df.loc[df['Projet']==i,'Durée'].sum(),'h')"
   ]
  },
  {
   "cell_type": "code",
   "execution_count": 27,
   "metadata": {},
   "outputs": [
    {
     "name": "stdout",
     "output_type": "stream",
     "text": [
      "Compétence 0 : 1.5 h 0.03496503496503497\n",
      "Compétence 1 : 3.5 h 0.055944055944055944\n",
      "Compétence 2 : 0.75 h 0.03496503496503497\n",
      "Compétence 3 : 14.75 h 0.06293706293706294\n",
      "Compétence 4 : 10.5 h 0.06993006993006994\n",
      "Compétence 5 : 4.75 h 0.04195804195804196\n",
      "Compétence 6 : 2.0 h 0.055944055944055944\n",
      "Compétence 7 : 3.75 h 0.03496503496503497\n",
      "Compétence 8 : 7.75 h 0.08391608391608392\n",
      "Compétence 9 : 9.25 h 0.04195804195804196\n",
      "Compétence 10 : 3.5 h 0.04895104895104895\n",
      "Compétence 11 : 5.0 h 0.03496503496503497\n",
      "Compétence 12 : 5.0 h 0.03496503496503497\n",
      "Compétence 13 : 0.25 h 0.055944055944055944\n",
      "Compétence 14 : 2.75 h 0.055944055944055944\n",
      "Compétence 15 : 2.25 h 0.06993006993006994\n",
      "Compétence 16 : 3.5 h 0.04195804195804196\n",
      "Compétence 17 : 1.5 h 0.055944055944055944\n",
      "Compétence 18 : 0.25 h 0.03496503496503497\n",
      "Compétence 19 : 6.5 h 0.04895104895104895\n"
     ]
    }
   ],
   "source": [
    "for i in range(N_competences):\n",
    "    print('Compétence',i,':',df.loc[df['Compétence']==i,'Durée'].sum(),'h', scores_comp[i])"
   ]
  },
  {
   "cell_type": "code",
   "execution_count": 41,
   "metadata": {
    "scrolled": false
   },
   "outputs": [
    {
     "name": "stdout",
     "output_type": "stream",
     "text": [
      "20.0 % des tâches ont été affectées à des personnes non impliquées dans le projet concerné.\n",
      "20.0 % des tâches ont été affectées à des personnes non impliquées dans le projet concerné.\n",
      "20.0 % des tâches ont été affectées à des personnes non impliquées dans le projet concerné.\n",
      "20.0 % des tâches ont été affectées à des personnes non impliquées dans le projet concerné.\n",
      "20.0 % des tâches ont été affectées à des personnes non impliquées dans le projet concerné.\n",
      "20.0 % des tâches ont été affectées à des personnes non impliquées dans le projet concerné.\n",
      "20.0 % des tâches ont été affectées à des personnes non impliquées dans le projet concerné.\n",
      "10 utilisateurs 20 compétences 17 projets\n"
     ]
    },
    {
     "data": {
      "image/png": "[encoded data removed]",
      "text/plain": [
       "<Figure size 1152x1152 with 7 Axes>"
      ]
     },
     "metadata": {
      "needs_background": "light"
     },
     "output_type": "display_data"
    }
   ],
   "source": [
    "dispo_uts = np.floor(np.random.normal(400,5,N_utilisateurs))\n",
    "plt.figure(figsize=(16,16))\n",
    "\n",
    "politique = np.array([1,0,0])\n",
    "df2, DATA = distribue(df, dispo_uts, M, Mp, politique)                \n",
    "ax1 = plt.subplot(331,title='Politique 0')\n",
    "ax1.hist(DATA);\n",
    "\n",
    "\n",
    "politique = np.array([0,1,0])\n",
    "df2, DATA = distribue(df, dispo_uts, M, Mp, politique)                \n",
    "ax2 = plt.subplot(332,title='Politique 1')\n",
    "ax2.hist(DATA);\n",
    "\n",
    "politique = np.array([0,0,1])\n",
    "df2, DATA = distribue(df, dispo_uts, M, Mp, politique)                \n",
    "ax3 = plt.subplot(333,title='Politique 2')\n",
    "ax3.hist(DATA);\n",
    "\n",
    "politique = np.array([1,1,0])\n",
    "df2, DATA = distribue(df, dispo_uts, M, Mp, politique)                \n",
    "ax4 = plt.subplot(334,title='Politique 0 et 1')\n",
    "ax4.hist(DATA);\n",
    "\n",
    "\n",
    "politique = np.array([1,0,1])\n",
    "df2, DATA = distribue(df, dispo_uts, M, Mp, politique)                \n",
    "ax5 = plt.subplot(335,title='Politique 0 et 2')\n",
    "ax5.hist(DATA);\n",
    "\n",
    "\n",
    "politique = np.array([0,1,1])\n",
    "df2, DATA = distribue(df, dispo_uts, M, Mp, politique)                \n",
    "ax6 = plt.subplot(336,title='Politique 1 et 2')\n",
    "ax6.hist(DATA);\n",
    "\n",
    "\n",
    "politique = np.array([1,1,1])\n",
    "df2, DATA = distribue(df, dispo_uts, M, Mp, politique)                \n",
    "ax7 = plt.subplot(337,title='Politique 0, 1 et 2')\n",
    "ax7.hist(DATA);\n",
    "\n",
    "\n",
    "print(N_utilisateurs, 'utilisateurs',N_competences,'compétences', N_projets,'projets')"
   ]
  },
  {
   "cell_type": "code",
   "execution_count": 40,
   "metadata": {},
   "outputs": [],
   "source": [
    "def distribue(df_taches, dispo_uts, Matrice_competences, Matrice_projet, preferences):\n",
    "    CHOIX = []\n",
    "    M = Matrice_competences\n",
    "    Mp = Matrice_projet\n",
    "    politique = preferences/preferences.sum()\n",
    "    df = df_taches\n",
    "    non_projet = 0\n",
    "    compteur = 0\n",
    "    for index, row in df.iterrows():\n",
    "        comp = row['Compétence']\n",
    "        proj = row['Projet']\n",
    "        duree = row['Durée']\n",
    "        uts_candidats = np.where(dispo_uts >= duree)[0]\n",
    "    \n",
    "        if len(uts_candidats) == 0 :\n",
    "            print(\"Aucun utilisateur n'est libre pour réaliser cette tache\")\n",
    "        else :\n",
    "            uts_candidats = np.intersect1d(np.where(M[comp,:]  > 0)[0], uts_candidats)\n",
    "            if len(uts_candidats) == 0:\n",
    "                print(\"utilisateur libre ne dispose de la compétence requise pour cette tâche\")\n",
    "            else :\n",
    "                uts_candidats2 = np.intersect1d(np.where(Mp[proj,:] == 1)[0],uts_candidats)\n",
    "                if len(uts_candidats2) == 0 :\n",
    "                    #print(\"Aucun utilisateur compétent restant n'a travaillé sur ce projet\")\n",
    "                    loi0 = M[comp,uts_candidats] / M[comp,uts_candidats].sum()\n",
    "                    loi1 = 1 - scores_uts[uts_candidats]/scores_uts[uts_candidats].max()\n",
    "                    loi2 = dispo_uts[uts_candidats]/dispo_uts[uts_candidats].sum()\n",
    "                    LOI = politique[0] * loi0 + politique[1] * loi1 + politique[2]* loi2\n",
    "                    \n",
    "                    lepluscomp = uts_candidats[np.argmax(M[comp,uts_candidats])]\n",
    "                    lemoinspoly = uts_candidats[np.argmin(scores_uts[uts_candidats])]\n",
    "                    lemoinsbusy = uts_candidats[np.argmax(dispo_uts[uts_candidats])]\n",
    "                    argchoix = np.argmax(LOI)\n",
    "                    choix = uts_candidats[argchoix]\n",
    "                    \n",
    "                    dispo_uts[choix] -= duree\n",
    "                    if choix == lepluscomp:\n",
    "                        CHOIX.append(0)\n",
    "                    if choix == lemoinspoly:\n",
    "                        CHOIX.append(1)\n",
    "                    if choix == lemoinsbusy:\n",
    "                        CHOIX.append(2)\n",
    "                    non_projet +=1\n",
    "                    \n",
    "                    \n",
    "                    choix = uts_candidats[np.argmax(LOI)]\n",
    "                    dispo_uts[choix] -= duree\n",
    "                    df.loc[index,'Assignée à'] = choix\n",
    "                else :\n",
    "                    loi0 = M[comp,uts_candidats2] / M[comp,uts_candidats2].sum()\n",
    "                    loi1 = 1 - scores_uts[uts_candidats2]/scores_uts[uts_candidats2].max()\n",
    "                    loi2 = dispo_uts[uts_candidats2]/dispo_uts[uts_candidats2].sum()\n",
    "                    LOI = politique[0] * loi0 +politique[1] * loi1 + politique[2]* loi2\n",
    "\n",
    "                    argchoix = np.argmax(LOI)\n",
    "                    choix = uts_candidats2[argchoix]\n",
    "\n",
    "\n",
    "                    lepluscomp = uts_candidats2[np.argmax(M[comp,uts_candidats2])]\n",
    "                    lemoinspoly = uts_candidats2[np.argmin(scores_uts[uts_candidats2])]\n",
    "                    lemoinsbusy = uts_candidats2[np.argmax(dispo_uts[uts_candidats2])]\n",
    "\n",
    "                    dispo_uts[choix] -= duree\n",
    "                    if choix == lepluscomp:\n",
    "                        CHOIX.append(0)\n",
    "                    if choix == lemoinspoly:\n",
    "                        CHOIX.append(1)\n",
    "                    if choix == lemoinsbusy:\n",
    "                        CHOIX.append(2)\n",
    "                    df.loc[index,'Assignée à'] = choix\n",
    "        compteur +=1\n",
    "    print(non_projet / compteur *100, \"% des tâches ont été affectées à des personnes non impliquées dans le projet concerné.\")\n",
    "                    \n",
    "    return df, CHOIX"
   ]
  },
  {
   "cell_type": "code",
   "execution_count": 153,
   "metadata": {},
   "outputs": [
    {
     "data": {
      "text/plain": [
       "(array([11.,  0.,  8.,  0.,  0., 11.,  0., 14.,  0.,  6.]),\n",
       " array([0. , 0.4, 0.8, 1.2, 1.6, 2. , 2.4, 2.8, 3.2, 3.6, 4. ]),\n",
       " <a list of 10 Patch objects>)"
      ]
     },
     "execution_count": 153,
     "metadata": {},
     "output_type": "execute_result"
    },
    {
     "data": {
      "image/png": "[encoded data removed]",
      "text/plain": [
       "<Figure size 432x288 with 1 Axes>"
      ]
     },
     "metadata": {
      "needs_background": "light"
     },
     "output_type": "display_data"
    }
   ],
   "source": [
    "df2"
   ]
  },
  {
   "cell_type": "code",
   "execution_count": 149,
   "metadata": {},
   "outputs": [
    {
     "data": {
      "text/plain": [
       "[<matplotlib.lines.Line2D at 0xd129b48>]"
      ]
     },
     "execution_count": 149,
     "metadata": {},
     "output_type": "execute_result"
    },
    {
     "data": {
      "image/png": "[encoded data removed]",
      "text/plain": [
       "<Figure size 432x288 with 1 Axes>"
      ]
     },
     "metadata": {
      "needs_background": "light"
     },
     "output_type": "display_data"
    }
   ],
   "source": [
    "plt.plot(scores_comp)"
   ]
  },
  {
   "cell_type": "code",
   "execution_count": 142,
   "metadata": {},
   "outputs": [
    {
     "data": {
      "text/plain": [
       "array([[1., 1., 1., 0., 1., 1.],\n",
       "       [0., 1., 1., 0., 1., 0.],\n",
       "       [1., 0., 1., 0., 1., 1.],\n",
       "       [1., 0., 0., 0., 1., 0.],\n",
       "       [1., 1., 0., 0., 1., 0.]])"
      ]
     },
     "execution_count": 142,
     "metadata": {},
     "output_type": "execute_result"
    }
   ],
   "source": [
    "Mp"
   ]
  },
  {
   "cell_type": "code",
   "execution_count": 144,
   "metadata": {},
   "outputs": [
    {
     "data": {
      "text/plain": [
       "array([[2., 1., 0., 1., 1., 0.],\n",
       "       [0., 1., 0., 0., 0., 1.],\n",
       "       [3., 1., 2., 0., 1., 1.],\n",
       "       [0., 2., 1., 0., 2., 1.],\n",
       "       [0., 1., 0., 1., 2., 0.]])"
      ]
     },
     "execution_count": 144,
     "metadata": {},
     "output_type": "execute_result"
    }
   ],
   "source": [
    "M"
   ]
  },
  {
   "cell_type": "code",
   "execution_count": 61,
   "metadata": {},
   "outputs": [
    {
     "data": {
      "text/plain": [
       "array([0.125, 0.5  , 0.375])"
      ]
     },
     "execution_count": 61,
     "metadata": {},
     "output_type": "execute_result"
    }
   ],
   "source": [
    "politique = (np.array([1,4,3]))**1\n",
    "politique = politique / politique.sum()\n",
    "politique"
   ]
  },
  {
   "cell_type": "code",
   "execution_count": 44,
   "metadata": {},
   "outputs": [
    {
     "data": {
      "text/plain": [
       "236.0"
      ]
     },
     "execution_count": 44,
     "metadata": {},
     "output_type": "execute_result"
    }
   ],
   "source": [
    "dispo_uts.sum()"
   ]
  },
  {
   "cell_type": "code",
   "execution_count": 13,
   "metadata": {},
   "outputs": [
    {
     "data": {
      "text/plain": [
       "0.5668350168350168"
      ]
     },
     "execution_count": 13,
     "metadata": {},
     "output_type": "execute_result"
    }
   ],
   "source": [
    "def penHIST(x, detail =False):\n",
    "    global Mp\n",
    "    global tasks\n",
    "    global N_utilisateurs\n",
    "    pen = np.zeros(N_utilisateurs)\n",
    "    for i in range(N_utilisateurs):\n",
    "        index = np.where(x[1,:]== i)[0]\n",
    "        hist = np.where(Mp[:,i]== 1)[0]\n",
    "        t = tasks[3,index]\n",
    "        new_pen = 0\n",
    "        for j in t:\n",
    "            if not j in hist :\n",
    "                new_pen += 1\n",
    "\n",
    "        pen[i] = new_pen / max(1,len(t))\n",
    "    \n",
    "    return pen.sum()/N_utilisateurs if not detail else pen\n",
    "\n",
    "penHIST(x)"
   ]
  },
  {
   "cell_type": "markdown",
   "metadata": {},
   "source": [
    "# Calcul des temps d'occupations :\n",
    "\n",
    "on va ici calculer le pourcentage d'occupation de chacun des utilisateurs"
   ]
  },
  {
   "cell_type": "code",
   "execution_count": 14,
   "metadata": {},
   "outputs": [
    {
     "ename": "NameError",
     "evalue": "name 'assignation' is not defined",
     "output_type": "error",
     "traceback": [
      "\u001b[1;31m---------------------------------------------------------------------------\u001b[0m",
      "\u001b[1;31mNameError\u001b[0m                                 Traceback (most recent call last)",
      "\u001b[1;32m<ipython-input-14-0cb25ebd9fdb>\u001b[0m in \u001b[0;36m<module>\u001b[1;34m\u001b[0m\n\u001b[0;32m      7\u001b[0m     \u001b[1;32mreturn\u001b[0m \u001b[0mscore_TO\u001b[0m \u001b[1;33m/\u001b[0m\u001b[0mscore_TO\u001b[0m\u001b[1;33m.\u001b[0m\u001b[0mmax\u001b[0m\u001b[1;33m(\u001b[0m\u001b[1;33m)\u001b[0m\u001b[1;33m\u001b[0m\u001b[1;33m\u001b[0m\u001b[0m\n\u001b[0;32m      8\u001b[0m \u001b[1;33m\u001b[0m\u001b[0m\n\u001b[1;32m----> 9\u001b[1;33m \u001b[0mto\u001b[0m \u001b[1;33m=\u001b[0m \u001b[0mTO\u001b[0m\u001b[1;33m(\u001b[0m\u001b[0massignation\u001b[0m\u001b[1;33m,\u001b[0m \u001b[0mdispo_uts\u001b[0m\u001b[1;33m)\u001b[0m\u001b[1;33m\u001b[0m\u001b[1;33m\u001b[0m\u001b[0m\n\u001b[0m",
      "\u001b[1;31mNameError\u001b[0m: name 'assignation' is not defined"
     ]
    }
   ],
   "source": [
    "def TO(assignation, dispo_uts):\n",
    "    N_utilisateurs = len(dispo_uts)\n",
    "    score_TO = np.zeros(N_utilisateurs)\n",
    "    for i in range(N_utilisateurs) :\n",
    "        index = np.where(assignation[1,:] == i)[0]\n",
    "        score_TO[i] = tasks[1,index].sum() / dispo_uts[i]\n",
    "    return score_TO /score_TO.max()\n",
    "\n",
    "to = TO(assignation, dispo_uts)"
   ]
  },
  {
   "cell_type": "markdown",
   "metadata": {},
   "source": [
    "On voit qu'avec cette répartition des taches, l'utilisateur 0 est occupé à score_T0[0].\n",
    "\n",
    "On va par la suite chercher à occuper le plus possible les utilisateurs ayant peu de compétences"
   ]
  },
  {
   "cell_type": "code",
   "execution_count": 15,
   "metadata": {},
   "outputs": [
    {
     "data": {
      "text/plain": [
       "0.5016631652661065"
      ]
     },
     "execution_count": 15,
     "metadata": {},
     "output_type": "execute_result"
    }
   ],
   "source": [
    "def penTO(assignation, detail=False):\n",
    "    global dipso_uts\n",
    "    global scores_uts\n",
    "    N_utilisateurs = len(dispo_uts)\n",
    "    pen = np.zeros(N_utilisateurs)\n",
    "    \n",
    "    score_TO = np.zeros(N_utilisateurs)\n",
    "    for i in range(N_utilisateurs) :\n",
    "        index = np.where(assignation[1,:] == i)[0]\n",
    "        score_TO[i] = tasks[1,index].sum() / dispo_uts[i]\n",
    "    score_TO /= score_TO.max()\n",
    "    \n",
    "    \n",
    "    for i in range(N_utilisateurs) :\n",
    "        new_pen = 0\n",
    "        new_pen = (1-scores_uts[i]) * np.abs(1-score_TO[i])\n",
    "        pen[i] = new_pen\n",
    "        \n",
    "    if not detail :\n",
    "        return pen.sum()\n",
    "    else: return to\n",
    "\n",
    "penTO(x)"
   ]
  },
  {
   "cell_type": "code",
   "execution_count": 16,
   "metadata": {},
   "outputs": [],
   "source": [
    "def makeNeighbour(configuration):\n",
    "    global N_utilisateurs\n",
    "    i = np.random.randint(0,configuration.shape[1])\n",
    "    configuration[1,i] = np.random.randint(0,N_utilisateurs)\n",
    "    return configuration"
   ]
  },
  {
   "cell_type": "code",
   "execution_count": 17,
   "metadata": {},
   "outputs": [],
   "source": [
    "def Etot(scores) : \n",
    "    global pref\n",
    "    return np.vdot(pref,scores)"
   ]
  },
  {
   "cell_type": "code",
   "execution_count": 18,
   "metadata": {},
   "outputs": [],
   "source": [
    "def getScores(x):\n",
    "    return np.array([penTO(x),penHIST(x)])"
   ]
  },
  {
   "cell_type": "code",
   "execution_count": 19,
   "metadata": {
    "scrolled": false
   },
   "outputs": [
    {
     "name": "stderr",
     "output_type": "stream",
     "text": [
      "100%|█████████████████████████████████████| 2999/2999 [00:05<00:00, 561.58it/s]\n"
     ]
    },
    {
     "data": {
      "text/plain": [
       "[<matplotlib.lines.Line2D at 0x93c74c8>]"
      ]
     },
     "execution_count": 19,
     "metadata": {},
     "output_type": "execute_result"
    },
    {
     "data": {
      "image/png": "[encoded data removed]",
      "text/plain": [
       "<Figure size 1152x1152 with 5 Axes>"
      ]
     },
     "metadata": {
      "needs_background": "light"
     },
     "output_type": "display_data"
    }
   ],
   "source": [
    "N_iter = N_taches * N_utilisateurs * 10\n",
    "xmin = x\n",
    "pref = np.array([100,5])\n",
    "pref = pref/ pref.sum()\n",
    "\n",
    "E = np.zeros(N_iter)\n",
    "Emin = np.zeros(N_iter)\n",
    "Proba = np.zeros(N_iter)\n",
    "\n",
    "Scores = np.zeros((N_iter,2))\n",
    "Scores[0,:] = getScores(x)\n",
    "E[0] = Etot(Scores[0,:])\n",
    "Emin[0] = E[0]\n",
    "\n",
    "c = 1\n",
    "T = c\n",
    "Tmin = 1e-5\n",
    "decay = 1 - np.exp(np.log(Tmin/c)/1/N_iter)\n",
    "\n",
    "\n",
    "\n",
    "for i in tqdm(range(1,N_iter)):\n",
    "    T = T* (1-decay) if T > Tmin else Tmin\n",
    "    \n",
    "    y = makeNeighbour(x)\n",
    "    \n",
    "    tmpScores = getScores(y)\n",
    "    Ey = Etot(tmpScores)\n",
    "    delta = Ey - E[i-1]\n",
    "    \n",
    "    Proba[i] = min(1,np.exp(-delta/T))\n",
    "    if np.random.rand() < Proba[i]:\n",
    "        x = np.copy(y)\n",
    "        E[i] = Ey\n",
    "        Scores[i,:] = tmpScores\n",
    "    else :\n",
    "        E[i] = E[i-1]\n",
    "        Scores[i,:] = Scores[i-1,:]\n",
    "    \n",
    "    Emin[i] = E[i] if E[i] < Emin[i-1] else Emin[i-1]\n",
    "                                                 \n",
    "\n",
    "plt.figure(figsize=(16,16))\n",
    "ax1 = plt.subplot(321, title='Energie')\n",
    "ax1.grid()\n",
    "ax1.plot(range(N_iter),E)\n",
    "ax1.plot(range(N_iter),Emin)\n",
    "\n",
    "ax2 = plt.subplot(322, title = 'Proba')\n",
    "ax2.grid()\n",
    "ax2.scatter(range(N_iter),Proba,marker=\"+\")\n",
    "\n",
    "ax3 = plt.subplot(323, title ='Température')\n",
    "ax3.grid()\n",
    "ax3.plot(range(N_iter), (1-decay) ** np.arange(N_iter))\n",
    "\n",
    "ax4 = plt.subplot(324, title = 'TO')\n",
    "ax4.grid()\n",
    "ax4.plot(range(N_iter), Scores[:,0])\n",
    "\n",
    "ax5 = plt.subplot(325, title=\"Compétences\")\n",
    "ax5.grid()\n",
    "ax5.plot(range(N_iter), Scores[:,1])"
   ]
  }
 ],
 "metadata": {
  "kernelspec": {
   "display_name": "Python 3",
   "language": "python",
   "name": "python3"
  },
  "language_info": {
   "codemirror_mode": {
    "name": "ipython",
    "version": 3
   },
   "file_extension": ".py",
   "mimetype": "text/x-python",
   "name": "python",
   "nbconvert_exporter": "python",
   "pygments_lexer": "ipython3",
   "version": "3.8.8"
  }
 },
 "nbformat": 4,
 "nbformat_minor": 4
}
